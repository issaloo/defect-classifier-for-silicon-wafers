{
 "cells": [
  {
   "cell_type": "code",
   "execution_count": 87,
   "id": "9e777d99-eefe-40ae-b8cd-11ae71b60eb5",
   "metadata": {},
   "outputs": [],
   "source": [
    "import glob\n",
    "\n",
    "import matplotlib.pyplot as plt\n",
    "import numpy as np\n",
    "import pandas as pd\n",
    "import seaborn as sns\n",
    "\n",
    "from sklearn.cluster import DBSCAN\n",
    "from scipy.spatial import ConvexHull"
   ]
  },
  {
   "cell_type": "code",
   "execution_count": 88,
   "id": "fb32e63c",
   "metadata": {
    "scrolled": false
   },
   "outputs": [
    {
     "data": {
      "image/png": "[encoded data removed]",
      "text/plain": [
       "<Figure size 576x576 with 1 Axes>"
      ]
     },
     "metadata": {
      "needs_background": "light"
     },
     "output_type": "display_data"
    }
   ],
   "source": [
    "data_path = glob.glob('labeled_dataset/*.csv')\n",
    "\n",
    "# Initialize sample cluster in wafer scan\n",
    "wafer_df = pd.read_csv(data_path[3])\n",
    "sample_cluster = wafer_df['c_id'].unique()[wafer_df['c_id'].unique() > 0][0]\n",
    "cluster_df = wafer_df[wafer_df['c_id'] == sample_cluster].copy()\n",
    "fig, ax = plt.subplots(figsize=(8, 8))\n",
    "sns.scatterplot(data=cluster_df, x='X', y='Y', hue='c_id')\n",
    "circle = plt.Circle((0, 0), 150, color='r', fill=None)\n",
    "ax.add_patch(circle)\n",
    "ax.axis('off')\n",
    "plt.setp(ax, xlim=[-150, 150], ylim=[-150, 150])\n",
    "plt.show()"
   ]
  },
  {
   "cell_type": "markdown",
   "id": "a687e3e7-41a3-4c38-9ae9-8212bb2065c2",
   "metadata": {},
   "source": [
    "## 1. Create features at the wafer level and the cluster level"
   ]
  },
  {
   "cell_type": "markdown",
   "id": "6d8842a3",
   "metadata": {},
   "source": [
    "### Calculate number of points on wafer"
   ]
  },
  {
   "cell_type": "code",
   "execution_count": 89,
   "id": "23431576",
   "metadata": {},
   "outputs": [
    {
     "data": {
      "text/plain": [
       "27"
      ]
     },
     "execution_count": 89,
     "metadata": {},
     "output_type": "execute_result"
    }
   ],
   "source": [
    "num_wafer_pt = wafer_df.shape[0]\n",
    "num_wafer_pt"
   ]
  },
  {
   "cell_type": "markdown",
   "id": "2cd28d9b",
   "metadata": {},
   "source": [
    "### Calculate number of clusters detected on wafer"
   ]
  },
  {
   "cell_type": "code",
   "execution_count": 90,
   "id": "e0746e56",
   "metadata": {},
   "outputs": [
    {
     "data": {
      "text/plain": [
       "3"
      ]
     },
     "execution_count": 90,
     "metadata": {},
     "output_type": "execute_result"
    }
   ],
   "source": [
    "num_cluster = wafer_df.loc[wafer_df['c_id'] > 0, 'c_id'].nunique()\n",
    "num_cluster"
   ]
  },
  {
   "cell_type": "markdown",
   "id": "c8f02e24",
   "metadata": {},
   "source": [
    "### Calculate centroid of wafer points"
   ]
  },
  {
   "cell_type": "code",
   "execution_count": 91,
   "id": "2d5fbc5a",
   "metadata": {},
   "outputs": [
    {
     "name": "stdout",
     "output_type": "stream",
     "text": [
      "-17.43657548148148 13.407676962962963\n"
     ]
    }
   ],
   "source": [
    "cent_wafer_x = wafer_df['X'].mean()\n",
    "cent_wafer_y = wafer_df['Y'].mean()\n",
    "print(cent_wafer_x, cent_wafer_y)"
   ]
  },
  {
   "cell_type": "markdown",
   "id": "023e3789",
   "metadata": {},
   "source": [
    "### Calculate number of points in cluster"
   ]
  },
  {
   "cell_type": "code",
   "execution_count": 92,
   "id": "aef63fbe",
   "metadata": {},
   "outputs": [
    {
     "data": {
      "text/plain": [
       "6"
      ]
     },
     "execution_count": 92,
     "metadata": {},
     "output_type": "execute_result"
    }
   ],
   "source": [
    "num_cluster_pt = cluster_df.shape[0]\n",
    "num_cluster_pt"
   ]
  },
  {
   "cell_type": "markdown",
   "id": "2bac53ee",
   "metadata": {},
   "source": [
    "### Calculate centroid of cluster points"
   ]
  },
  {
   "cell_type": "code",
   "execution_count": 93,
   "id": "5f69c101",
   "metadata": {},
   "outputs": [
    {
     "name": "stdout",
     "output_type": "stream",
     "text": [
      "-13.607276166666665 99.32150283333333\n"
     ]
    }
   ],
   "source": [
    "cent_cluster_x = cluster_df['X'].mean()\n",
    "cent_cluster_y = cluster_df['Y'].mean()\n",
    "print(cent_cluster_x, cent_cluster_y)"
   ]
  },
  {
   "cell_type": "markdown",
   "id": "21996240",
   "metadata": {},
   "source": [
    "### Calculate distance of cluster centroid from center"
   ]
  },
  {
   "cell_type": "code",
   "execution_count": 94,
   "id": "9162cace",
   "metadata": {},
   "outputs": [
    {
     "data": {
      "text/plain": [
       "100.24928373683163"
      ]
     },
     "execution_count": 94,
     "metadata": {},
     "output_type": "execute_result"
    }
   ],
   "source": [
    "dist_cluster = np.sqrt(cent_cluster_x**2 + cent_cluster_y**2)\n",
    "dist_cluster"
   ]
  },
  {
   "cell_type": "markdown",
   "id": "b2e1ed56",
   "metadata": {},
   "source": [
    "### Calculate area of cluster points"
   ]
  },
  {
   "cell_type": "code",
   "execution_count": 95,
   "id": "d06df16a",
   "metadata": {},
   "outputs": [
    {
     "data": {
      "text/plain": [
       "1224.901999193046"
      ]
     },
     "execution_count": 95,
     "metadata": {},
     "output_type": "execute_result"
    }
   ],
   "source": [
    "def PolygonArea(xy):\n",
    "    \"\"\"Calculate the area of xy coordinates.\n",
    "    \n",
    "    Arg:\n",
    "        xy (array): 2D array with x coordinates as the first column and \n",
    "            y coordinates as the second column\n",
    "    Return:\n",
    "        polygon_area (float): Area of the shape createdd by xy coordinates\n",
    "    \"\"\"\n",
    "    x = xy[:, 0]\n",
    "    y = xy[:, 1]\n",
    "    x_ = x - x.mean()\n",
    "    y_ = y - y.mean()\n",
    "    correction = x_[-1]*y_[0] - y_[-1]*x_[0]\n",
    "    main_area = np.dot(x_[:-1], y_[1:]) - np.dot(y_[:-1], x_[1:])\n",
    "    polygon_area = 0.5*np.abs(main_area + correction)\n",
    "    return polygon_area\n",
    "\n",
    "def area(cluster_df):\n",
    "    \"\"\"Calculate the area of the outer xy coordinates of the cluster.\n",
    "    \n",
    "        Arg:\n",
    "            cluster_df (dataframe): Cluster dataframe containing xy coordinate \n",
    "                columns\n",
    "        Return:\n",
    "            cluster_area (float): Area of the cluster created by outer xy \n",
    "                coordinates\n",
    "    \"\"\"\n",
    "    cluster_xy = cluster_df[['X', 'Y']].values\n",
    "    if (all(cluster_xy[:, 0] == cluster_xy[1, 0]) \n",
    "        | all(cluster_xy[:, 1] == cluster_xy[1, 1])):\n",
    "        cluster_area = 0\n",
    "    else:\n",
    "        hull = ConvexHull(cluster_xy)\n",
    "        hull_pts = cluster_xy[hull.vertices, :]\n",
    "        cluster_area = PolygonArea(hull_pts)\n",
    "    return cluster_area\n",
    "\n",
    "area_cluster = area(cluster_df)\n",
    "area_cluster"
   ]
  },
  {
   "cell_type": "markdown",
   "id": "0bfe90da",
   "metadata": {},
   "source": [
    "### Calculate length of cluster"
   ]
  },
  {
   "cell_type": "code",
   "execution_count": 96,
   "id": "a2dfb6a3",
   "metadata": {},
   "outputs": [
    {
     "data": {
      "text/plain": [
       "91.62957028514192"
      ]
     },
     "execution_count": 96,
     "metadata": {},
     "output_type": "execute_result"
    }
   ],
   "source": [
    "def cluster_length(cluster_df):\n",
    "    \"\"\"Calculate the length of the cluster.\n",
    "    \n",
    "    Arg:\n",
    "        cluster_df (dataframe): Cluster dataframe containing xy coordinate \n",
    "            columns\n",
    "    Return:\n",
    "        cluster_len (float): Length of the cluster that is determined by \n",
    "            the two points furthest away from each other\n",
    "    \"\"\"\n",
    "    cluster_xy = cluster_df[['X', 'Y']].values\n",
    "    dist_arr = np.sqrt(np.sum(cluster_xy**2,axis=1))\n",
    "    coordA = cluster_xy[np.argmax(dist_arr), :]\n",
    "    cdf_moved = cluster_xy[:] - coordA[:]\n",
    "    dist_arr = np.sqrt(np.sum(cdf_moved**2,axis=1))\n",
    "    coordB = cluster_xy[np.argmax(dist_arr), :]\n",
    "    cluster_len = np.linalg.norm(coordA - coordB)\n",
    "    return cluster_len\n",
    "\n",
    "len_cluster = cluster_length(cluster_df)\n",
    "len_cluster"
   ]
  },
  {
   "cell_type": "markdown",
   "id": "cbd9c908",
   "metadata": {},
   "source": [
    "## 2. Aggregate and process data for features"
   ]
  },
  {
   "cell_type": "code",
   "execution_count": 97,
   "id": "096d4d95",
   "metadata": {},
   "outputs": [],
   "source": [
    "all_wafer_df = pd.concat([pd.read_csv(wafer) for wafer in data_path])"
   ]
  },
  {
   "cell_type": "code",
   "execution_count": 98,
   "id": "e788061c",
   "metadata": {},
   "outputs": [],
   "source": [
    "# Calculate features by wafer\n",
    "num_wafer_pt_df = (all_wafer_df.groupby(\n",
    "                   ['LOT_ID', 'WAFER_ID', 'WAFER_SCRIBE_ID'])\n",
    "                         .size()\n",
    "                         .reset_index())\n",
    "num_wafer_pt_df.rename(columns={0: 'NUM_WAFER_PT'}, inplace=True)\n",
    "\n",
    "cent_wafer_xy_df = (all_wafer_df.groupby(\n",
    "                    ['LOT_ID', 'WAFER_ID', 'WAFER_SCRIBE_ID'])\n",
    "                          .agg({'X': np.mean, 'Y': np.mean})\n",
    "                          .reset_index())\n",
    "cent_wafer_xy_df.rename(\n",
    "    columns={'X': 'WAFER_CENTX', 'Y': 'WAFER_CENTY'}, inplace=True)\n",
    "\n",
    "num_cluster_df = all_wafer_df.loc[all_wafer_df['c_id'] != 0, :].copy()\n",
    "num_cluster_df = (num_cluster_df.groupby(\n",
    "                  ['LOT_ID', 'WAFER_ID', 'WAFER_SCRIBE_ID'])\n",
    "                                .agg({'c_id': 'nunique'})\n",
    "                                .reset_index())\n",
    "num_cluster_df.rename(\n",
    "    columns={'c_id': 'NUM_CLUSTER'}, inplace=True)\n",
    "\n",
    "# Combine all wafer features\n",
    "wafer_feat_df = num_wafer_pt_df.merge(cent_wafer_xy_df)\n",
    "wafer_feat_df = wafer_feat_df.merge(num_cluster_df, how='left')\n",
    "wafer_feat_df['NUM_CLUSTER'].fillna(0, inplace=True)"
   ]
  },
  {
   "cell_type": "code",
   "execution_count": 99,
   "id": "d5271b43",
   "metadata": {},
   "outputs": [],
   "source": [
    "#<-------20---------><-------20---------><-------20---------><-------18------->"
   ]
  },
  {
   "cell_type": "code",
   "execution_count": null,
   "id": "5bc6f105",
   "metadata": {},
   "outputs": [],
   "source": [
    "# Calculate features by clusters\n",
    "num_cluster_pt_df = (all_wafer_df.groupby(\n",
    "                     ['LOT_ID', 'WAFER_ID', 'WAFER_SCRIBE_ID', 'c_id'])\n",
    "                                 .size()\n",
    "                                 .reset_index())\n",
    "num_cluster_pt_df.rename(columns={0: 'NUM_CLUSTER_PT'}, inplace=True)\n",
    "\n",
    "cent_cluster_xy_df = (all_wafer_df.groupby(\n",
    "                      ['LOT_ID', 'WAFER_ID', 'WAFER_SCRIBE_ID', 'c_id'])\n",
    "                                  .agg({'X': np.mean, 'Y': np.mean})\n",
    "                                  .reset_index())\n",
    "cent_cluster_xy_df.rename(\n",
    "    columns={'X': 'CLUSTER_CENTX', 'Y': 'CLUSTER_CENTY'}, inplace=True)"
   ]
  },
  {
   "cell_type": "code",
   "execution_count": 102,
   "id": "681dd496",
   "metadata": {},
   "outputs": [
    {
     "data": {
      "text/html": [
       "<div>\n",
       "<style scoped>\n",
       "    .dataframe tbody tr th:only-of-type {\n",
       "        vertical-align: middle;\n",
       "    }\n",
       "\n",
       "    .dataframe tbody tr th {\n",
       "        vertical-align: top;\n",
       "    }\n",
       "\n",
       "    .dataframe thead th {\n",
       "        text-align: right;\n",
       "    }\n",
       "</style>\n",
       "<table border=\"1\" class=\"dataframe\">\n",
       "  <thead>\n",
       "    <tr style=\"text-align: right;\">\n",
       "      <th></th>\n",
       "      <th>LOT_ID</th>\n",
       "      <th>WAFER_ID</th>\n",
       "      <th>WAFER_SCRIBE_ID</th>\n",
       "      <th>c_id</th>\n",
       "      <th>CLUSTER_CENTX</th>\n",
       "      <th>CLUSTER_CENTY</th>\n",
       "    </tr>\n",
       "  </thead>\n",
       "  <tbody>\n",
       "    <tr>\n",
       "      <th>0</th>\n",
       "      <td>H9195980</td>\n",
       "      <td>163</td>\n",
       "      <td>DC2CM163JMC6</td>\n",
       "      <td>0</td>\n",
       "      <td>4.058040</td>\n",
       "      <td>-29.578752</td>\n",
       "    </tr>\n",
       "    <tr>\n",
       "      <th>1</th>\n",
       "      <td>H9195980</td>\n",
       "      <td>164</td>\n",
       "      <td>DC2CM164JMH0</td>\n",
       "      <td>0</td>\n",
       "      <td>-26.975621</td>\n",
       "      <td>6.105325</td>\n",
       "    </tr>\n",
       "    <tr>\n",
       "      <th>2</th>\n",
       "      <td>H9195980</td>\n",
       "      <td>164</td>\n",
       "      <td>DC2CM164JMH0</td>\n",
       "      <td>1</td>\n",
       "      <td>-95.551866</td>\n",
       "      <td>-60.843889</td>\n",
       "    </tr>\n",
       "    <tr>\n",
       "      <th>3</th>\n",
       "      <td>H9195980</td>\n",
       "      <td>164</td>\n",
       "      <td>DC2CM164JMH0</td>\n",
       "      <td>2</td>\n",
       "      <td>41.910678</td>\n",
       "      <td>-19.036785</td>\n",
       "    </tr>\n",
       "    <tr>\n",
       "      <th>4</th>\n",
       "      <td>H9195990</td>\n",
       "      <td>107</td>\n",
       "      <td>DC2DB107JKA2</td>\n",
       "      <td>0</td>\n",
       "      <td>-1.788092</td>\n",
       "      <td>-0.798260</td>\n",
       "    </tr>\n",
       "    <tr>\n",
       "      <th>...</th>\n",
       "      <td>...</td>\n",
       "      <td>...</td>\n",
       "      <td>...</td>\n",
       "      <td>...</td>\n",
       "      <td>...</td>\n",
       "      <td>...</td>\n",
       "    </tr>\n",
       "    <tr>\n",
       "      <th>4547</th>\n",
       "      <td>L9306030</td>\n",
       "      <td>703</td>\n",
       "      <td>M7F5A703WAA1</td>\n",
       "      <td>5</td>\n",
       "      <td>47.792946</td>\n",
       "      <td>-14.299554</td>\n",
       "    </tr>\n",
       "    <tr>\n",
       "      <th>4548</th>\n",
       "      <td>L9306030</td>\n",
       "      <td>711</td>\n",
       "      <td>M7F5A711WAD4</td>\n",
       "      <td>0</td>\n",
       "      <td>-11.690066</td>\n",
       "      <td>76.164832</td>\n",
       "    </tr>\n",
       "    <tr>\n",
       "      <th>4549</th>\n",
       "      <td>L9306030</td>\n",
       "      <td>711</td>\n",
       "      <td>M7F5A711WAD4</td>\n",
       "      <td>1</td>\n",
       "      <td>-71.244830</td>\n",
       "      <td>-92.052440</td>\n",
       "    </tr>\n",
       "    <tr>\n",
       "      <th>4550</th>\n",
       "      <td>L9306030</td>\n",
       "      <td>711</td>\n",
       "      <td>M7F5A711WAD4</td>\n",
       "      <td>2</td>\n",
       "      <td>-43.419197</td>\n",
       "      <td>-91.828343</td>\n",
       "    </tr>\n",
       "    <tr>\n",
       "      <th>4551</th>\n",
       "      <td>L9306030</td>\n",
       "      <td>711</td>\n",
       "      <td>M7F5A711WAD4</td>\n",
       "      <td>3</td>\n",
       "      <td>80.330230</td>\n",
       "      <td>-16.700742</td>\n",
       "    </tr>\n",
       "  </tbody>\n",
       "</table>\n",
       "<p>4552 rows × 6 columns</p>\n",
       "</div>"
      ],
      "text/plain": [
       "        LOT_ID  WAFER_ID WAFER_SCRIBE_ID  c_id  CLUSTER_CENTX  CLUSTER_CENTY\n",
       "0     H9195980       163    DC2CM163JMC6     0       4.058040     -29.578752\n",
       "1     H9195980       164    DC2CM164JMH0     0     -26.975621       6.105325\n",
       "2     H9195980       164    DC2CM164JMH0     1     -95.551866     -60.843889\n",
       "3     H9195980       164    DC2CM164JMH0     2      41.910678     -19.036785\n",
       "4     H9195990       107    DC2DB107JKA2     0      -1.788092      -0.798260\n",
       "...        ...       ...             ...   ...            ...            ...\n",
       "4547  L9306030       703    M7F5A703WAA1     5      47.792946     -14.299554\n",
       "4548  L9306030       711    M7F5A711WAD4     0     -11.690066      76.164832\n",
       "4549  L9306030       711    M7F5A711WAD4     1     -71.244830     -92.052440\n",
       "4550  L9306030       711    M7F5A711WAD4     2     -43.419197     -91.828343\n",
       "4551  L9306030       711    M7F5A711WAD4     3      80.330230     -16.700742\n",
       "\n",
       "[4552 rows x 6 columns]"
      ]
     },
     "execution_count": 102,
     "metadata": {},
     "output_type": "execute_result"
    }
   ],
   "source": [
    "cent_cluster_xy_df['DIST_CLUSTER'] = np.sqrt(\n",
    "    cent_cluster_xy_df['']**2 + cent_cluster_y**2)"
   ]
  },
  {
   "cell_type": "code",
   "execution_count": 101,
   "id": "bda37437",
   "metadata": {
    "scrolled": true
   },
   "outputs": [],
   "source": [
    "# Combine all cluster features"
   ]
  },
  {
   "cell_type": "markdown",
   "id": "0b718a11",
   "metadata": {},
   "source": [
    "## 3. Output as modeling dataset"
   ]
  },
  {
   "cell_type": "code",
   "execution_count": null,
   "id": "38c8be08",
   "metadata": {},
   "outputs": [],
   "source": []
  }
 ],
 "metadata": {
  "kernelspec": {
   "display_name": "Python 3",
   "language": "python",
   "name": "python3"
  },
  "language_info": {
   "codemirror_mode": {
    "name": "ipython",
    "version": 3
   },
   "file_extension": ".py",
   "mimetype": "text/x-python",
   "name": "python",
   "nbconvert_exporter": "python",
   "pygments_lexer": "ipython3",
   "version": "3.9.5"
  }
 },
 "nbformat": 4,
 "nbformat_minor": 5
}
