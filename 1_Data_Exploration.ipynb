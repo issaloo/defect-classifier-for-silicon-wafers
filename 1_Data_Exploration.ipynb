{
 "cells": [
  {
   "cell_type": "code",
   "execution_count": 2,
   "metadata": {},
   "outputs": [],
   "source": [
    "import glob\n",
    "\n",
    "import matplotlib.dates as mdates\n",
    "import matplotlib.pyplot as plt\n",
    "import pandas as pd\n",
    "import seaborn as sns"
   ]
  },
  {
   "cell_type": "markdown",
   "metadata": {},
   "source": [
    "## Aggregate raw data"
   ]
  },
  {
   "cell_type": "code",
   "execution_count": 3,
   "metadata": {},
   "outputs": [],
   "source": [
    "df = pd.DataFrame()\n",
    "\n",
    "for csv in glob.glob('raw_dataset/*.csv'):\n",
    "    df = df.append(pd.read_csv(csv))"
   ]
  },
  {
   "cell_type": "markdown",
   "metadata": {},
   "source": [
    "## Initial data summaries"
   ]
  },
  {
   "cell_type": "code",
   "execution_count": 4,
   "metadata": {},
   "outputs": [
    {
     "data": {
      "text/html": [
       "<div>\n",
       "<style scoped>\n",
       "    .dataframe tbody tr th:only-of-type {\n",
       "        vertical-align: middle;\n",
       "    }\n",
       "\n",
       "    .dataframe tbody tr th {\n",
       "        vertical-align: top;\n",
       "    }\n",
       "\n",
       "    .dataframe thead th {\n",
       "        text-align: right;\n",
       "    }\n",
       "</style>\n",
       "<table border=\"1\" class=\"dataframe\">\n",
       "  <thead>\n",
       "    <tr style=\"text-align: right;\">\n",
       "      <th></th>\n",
       "      <th>LOT_ID</th>\n",
       "      <th>WAFER_ID</th>\n",
       "      <th>WAFER_SCRIBE_ID</th>\n",
       "      <th>INSPECTION_DATE</th>\n",
       "      <th>REAL_WAFER_X</th>\n",
       "      <th>REAL_WAFER_Y</th>\n",
       "    </tr>\n",
       "  </thead>\n",
       "  <tbody>\n",
       "    <tr>\n",
       "      <th>0</th>\n",
       "      <td>H9212940</td>\n",
       "      <td>26</td>\n",
       "      <td>5CXZR026MVB3</td>\n",
       "      <td>2019-08-28 10:39:59</td>\n",
       "      <td>-118944.463</td>\n",
       "      <td>30579.171</td>\n",
       "    </tr>\n",
       "    <tr>\n",
       "      <th>1</th>\n",
       "      <td>H9212940</td>\n",
       "      <td>26</td>\n",
       "      <td>5CXZR026MVB3</td>\n",
       "      <td>2019-08-28 10:39:59</td>\n",
       "      <td>-117872.247</td>\n",
       "      <td>30813.035</td>\n",
       "    </tr>\n",
       "    <tr>\n",
       "      <th>2</th>\n",
       "      <td>H9212940</td>\n",
       "      <td>26</td>\n",
       "      <td>5CXZR026MVB3</td>\n",
       "      <td>2019-08-28 10:39:59</td>\n",
       "      <td>-117701.912</td>\n",
       "      <td>-33059.266</td>\n",
       "    </tr>\n",
       "    <tr>\n",
       "      <th>3</th>\n",
       "      <td>H9212940</td>\n",
       "      <td>26</td>\n",
       "      <td>5CXZR026MVB3</td>\n",
       "      <td>2019-08-28 10:39:59</td>\n",
       "      <td>-107921.980</td>\n",
       "      <td>-32079.192</td>\n",
       "    </tr>\n",
       "    <tr>\n",
       "      <th>4</th>\n",
       "      <td>H9212940</td>\n",
       "      <td>26</td>\n",
       "      <td>5CXZR026MVB3</td>\n",
       "      <td>2019-08-28 10:39:59</td>\n",
       "      <td>-107618.931</td>\n",
       "      <td>30148.652</td>\n",
       "    </tr>\n",
       "  </tbody>\n",
       "</table>\n",
       "</div>"
      ],
      "text/plain": [
       "     LOT_ID  WAFER_ID WAFER_SCRIBE_ID      INSPECTION_DATE  REAL_WAFER_X  \\\n",
       "0  H9212940        26    5CXZR026MVB3  2019-08-28 10:39:59   -118944.463   \n",
       "1  H9212940        26    5CXZR026MVB3  2019-08-28 10:39:59   -117872.247   \n",
       "2  H9212940        26    5CXZR026MVB3  2019-08-28 10:39:59   -117701.912   \n",
       "3  H9212940        26    5CXZR026MVB3  2019-08-28 10:39:59   -107921.980   \n",
       "4  H9212940        26    5CXZR026MVB3  2019-08-28 10:39:59   -107618.931   \n",
       "\n",
       "   REAL_WAFER_Y  \n",
       "0     30579.171  \n",
       "1     30813.035  \n",
       "2    -33059.266  \n",
       "3    -32079.192  \n",
       "4     30148.652  "
      ]
     },
     "execution_count": 4,
     "metadata": {},
     "output_type": "execute_result"
    }
   ],
   "source": [
    "df.head()"
   ]
  },
  {
   "cell_type": "code",
   "execution_count": 5,
   "metadata": {},
   "outputs": [
    {
     "data": {
      "text/html": [
       "<div>\n",
       "<style scoped>\n",
       "    .dataframe tbody tr th:only-of-type {\n",
       "        vertical-align: middle;\n",
       "    }\n",
       "\n",
       "    .dataframe tbody tr th {\n",
       "        vertical-align: top;\n",
       "    }\n",
       "\n",
       "    .dataframe thead th {\n",
       "        text-align: right;\n",
       "    }\n",
       "</style>\n",
       "<table border=\"1\" class=\"dataframe\">\n",
       "  <thead>\n",
       "    <tr style=\"text-align: right;\">\n",
       "      <th></th>\n",
       "      <th>WAFER_ID</th>\n",
       "      <th>REAL_WAFER_X</th>\n",
       "      <th>REAL_WAFER_Y</th>\n",
       "    </tr>\n",
       "  </thead>\n",
       "  <tbody>\n",
       "    <tr>\n",
       "      <th>count</th>\n",
       "      <td>251656.000000</td>\n",
       "      <td>251656.000000</td>\n",
       "      <td>251656.000000</td>\n",
       "    </tr>\n",
       "    <tr>\n",
       "      <th>mean</th>\n",
       "      <td>257.999336</td>\n",
       "      <td>17461.493177</td>\n",
       "      <td>-8566.614313</td>\n",
       "    </tr>\n",
       "    <tr>\n",
       "      <th>std</th>\n",
       "      <td>227.834533</td>\n",
       "      <td>59104.063809</td>\n",
       "      <td>68094.759972</td>\n",
       "    </tr>\n",
       "    <tr>\n",
       "      <th>min</th>\n",
       "      <td>1.000000</td>\n",
       "      <td>-143368.468000</td>\n",
       "      <td>-144592.654000</td>\n",
       "    </tr>\n",
       "    <tr>\n",
       "      <th>25%</th>\n",
       "      <td>79.000000</td>\n",
       "      <td>-11832.381000</td>\n",
       "      <td>-62245.006250</td>\n",
       "    </tr>\n",
       "    <tr>\n",
       "      <th>50%</th>\n",
       "      <td>155.000000</td>\n",
       "      <td>9343.222500</td>\n",
       "      <td>-15415.741500</td>\n",
       "    </tr>\n",
       "    <tr>\n",
       "      <th>75%</th>\n",
       "      <td>360.000000</td>\n",
       "      <td>69567.793250</td>\n",
       "      <td>50428.717250</td>\n",
       "    </tr>\n",
       "    <tr>\n",
       "      <th>max</th>\n",
       "      <td>972.000000</td>\n",
       "      <td>143575.667000</td>\n",
       "      <td>146373.224000</td>\n",
       "    </tr>\n",
       "  </tbody>\n",
       "</table>\n",
       "</div>"
      ],
      "text/plain": [
       "            WAFER_ID   REAL_WAFER_X   REAL_WAFER_Y\n",
       "count  251656.000000  251656.000000  251656.000000\n",
       "mean      257.999336   17461.493177   -8566.614313\n",
       "std       227.834533   59104.063809   68094.759972\n",
       "min         1.000000 -143368.468000 -144592.654000\n",
       "25%        79.000000  -11832.381000  -62245.006250\n",
       "50%       155.000000    9343.222500  -15415.741500\n",
       "75%       360.000000   69567.793250   50428.717250\n",
       "max       972.000000  143575.667000  146373.224000"
      ]
     },
     "execution_count": 5,
     "metadata": {},
     "output_type": "execute_result"
    }
   ],
   "source": [
    "df.describe()"
   ]
  },
  {
   "cell_type": "code",
   "execution_count": 6,
   "metadata": {},
   "outputs": [
    {
     "data": {
      "text/plain": [
       "LOT_ID              object\n",
       "WAFER_ID             int64\n",
       "WAFER_SCRIBE_ID     object\n",
       "INSPECTION_DATE     object\n",
       "REAL_WAFER_X       float64\n",
       "REAL_WAFER_Y       float64\n",
       "dtype: object"
      ]
     },
     "execution_count": 6,
     "metadata": {},
     "output_type": "execute_result"
    }
   ],
   "source": [
    "df.dtypes"
   ]
  },
  {
   "cell_type": "markdown",
   "metadata": {},
   "source": [
    "## Plotting inspections over time"
   ]
  },
  {
   "cell_type": "code",
   "execution_count": 7,
   "metadata": {},
   "outputs": [
    {
     "data": {
      "image/png": "[encoded data removed]",
      "text/plain": [
       "<Figure size 1080x504 with 1 Axes>"
      ]
     },
     "metadata": {
      "needs_background": "light"
     },
     "output_type": "display_data"
    }
   ],
   "source": [
    "df['INSPECTION_DATE'] = pd.to_datetime(df['INSPECTION_DATE'])\n",
    "time_df = df.groupby(['INSPECTION_DATE']).size()\n",
    "fig, ax = plt.subplots(figsize=(15, 7))\n",
    "ax.xaxis.set_major_formatter(mdates.DateFormatter('%b %d %y'))\n",
    "sns.lineplot(data=time_df, ax=ax)\n",
    "plt.xticks(rotation=90)\n",
    "plt.show()"
   ]
  },
  {
   "cell_type": "markdown",
   "metadata": {},
   "source": [
    "## Data relationship checks"
   ]
  },
  {
   "cell_type": "code",
   "execution_count": 8,
   "metadata": {},
   "outputs": [
    {
     "data": {
      "text/plain": [
       "LOT_ID\n",
       "H9195980     190\n",
       "H9195990      67\n",
       "H9201370     102\n",
       "H9203230     221\n",
       "H9211250      43\n",
       "            ... \n",
       "L9296530     106\n",
       "L9304630    3181\n",
       "L9305100      43\n",
       "L9305590      47\n",
       "L9306030      96\n",
       "Length: 478, dtype: int64"
      ]
     },
     "execution_count": 8,
     "metadata": {},
     "output_type": "execute_result"
    }
   ],
   "source": [
    "df.groupby(['LOT_ID']).size()"
   ]
  },
  {
   "cell_type": "code",
   "execution_count": 9,
   "metadata": {},
   "outputs": [
    {
     "data": {
      "text/plain": [
       "LOT_ID    WAFER_ID\n",
       "H9195980  163          20\n",
       "          164         170\n",
       "H9195990  107          32\n",
       "          108          35\n",
       "H9201370  214          74\n",
       "                     ... \n",
       "L9305100  7            28\n",
       "L9305590  62           25\n",
       "          63           22\n",
       "L9306030  703          56\n",
       "          711          40\n",
       "Length: 1103, dtype: int64"
      ]
     },
     "execution_count": 9,
     "metadata": {},
     "output_type": "execute_result"
    }
   ],
   "source": [
    "df.groupby(['LOT_ID','WAFER_ID']).size()"
   ]
  },
  {
   "cell_type": "code",
   "execution_count": 9,
   "metadata": {},
   "outputs": [
    {
     "data": {
      "text/plain": [
       "LOT_ID    WAFER_ID  WAFER_SCRIBE_ID\n",
       "H9195980  163       DC2CM163JMC6        20\n",
       "          164       DC2CM164JMH0       170\n",
       "H9195990  107       DC2DB107JKA2        32\n",
       "          108       DC2DB108JKE4        35\n",
       "H9201370  214       IFZBJ214MMG0        74\n",
       "                                      ... \n",
       "L9305100  7         M7FMY007WAB0        28\n",
       "L9305590  62        IFZPD062MMC4        25\n",
       "          63        IFZPD063MMG6        22\n",
       "L9306030  703       M7F5A703WAA1        56\n",
       "          711       M7F5A711WAD4        40\n",
       "Length: 1103, dtype: int64"
      ]
     },
     "execution_count": 9,
     "metadata": {},
     "output_type": "execute_result"
    }
   ],
   "source": [
    "df.groupby(['LOT_ID', 'WAFER_ID', 'WAFER_SCRIBE_ID']).size()"
   ]
  },
  {
   "cell_type": "code",
   "execution_count": 11,
   "metadata": {},
   "outputs": [
    {
     "name": "stdout",
     "output_type": "stream",
     "text": [
      "0\n"
     ]
    },
    {
     "data": {
      "text/plain": [
       "0"
      ]
     },
     "execution_count": 11,
     "metadata": {},
     "output_type": "execute_result"
    }
   ],
   "source": [
    "# Relationship between LOT_ID & WAFER_ID and WAFER_SCRIBE_ID is 1 to 1\n",
    "print(sum((df.groupby(['LOT_ID', 'WAFER_ID', 'WAFER_SCRIBE_ID'])\n",
    "             .size()\n",
    "             .to_numpy()) != (df.groupby(['LOT_ID','WAFER_ID'])\n",
    "                                .size()\n",
    "                                .to_numpy())\n",
    "         )\n",
    "     )\n",
    "\n",
    "uniq_df1 = (df.groupby(['WAFER_SCRIBE_ID', 'LOT_ID', 'WAFER_ID'])\n",
    "              .size()\n",
    "              .reset_index())\n",
    "uniq_df2 = (df.groupby(['LOT_ID','WAFER_ID','WAFER_SCRIBE_ID'])\n",
    "              .size()\n",
    "              .reset_index())\n",
    "sum(pd.merge(uniq_df2, uniq_df1, on=['WAFER_SCRIBE_ID', 'LOT_ID', 'WAFER_ID'], \n",
    "             how='left')['0_y'].isna())"
   ]
  },
  {
   "cell_type": "markdown",
   "metadata": {},
   "source": [
    "## Display wafer scan (300mm)"
   ]
  },
  {
   "cell_type": "code",
   "execution_count": 17,
   "metadata": {},
   "outputs": [
    {
     "data": {
      "image/png": "[encoded data removed]",
      "text/plain": [
       "<Figure size 576x576 with 1 Axes>"
      ]
     },
     "metadata": {
      "needs_background": "light"
     },
     "output_type": "display_data"
    }
   ],
   "source": [
    "df_xy = df[df['WAFER_SCRIBE_ID'] == 'CZ6VP002JME7']\n",
    "fig, ax = plt.subplots(figsize=(8, 8))\n",
    "sns.scatterplot(data=df_xy, x='REAL_WAFER_X', y='REAL_WAFER_Y')\n",
    "plt.xlim([-150000, 150000])\n",
    "plt.ylim([-150000, 150000])\n",
    "plt.axis('off')\n",
    "circle = plt.Circle((0, 0), 150000, color='r', fill=None)\n",
    "ax.add_patch(circle)\n",
    "plt.show()"
   ]
  }
 ],
 "metadata": {
  "kernelspec": {
   "display_name": "Python 3",
   "language": "python",
   "name": "python3"
  },
  "language_info": {
   "codemirror_mode": {
    "name": "ipython",
    "version": 3
   },
   "file_extension": ".py",
   "mimetype": "text/x-python",
   "name": "python",
   "nbconvert_exporter": "python",
   "pygments_lexer": "ipython3",
   "version": "3.9.5"
  }
 },
 "nbformat": 4,
 "nbformat_minor": 4
}
