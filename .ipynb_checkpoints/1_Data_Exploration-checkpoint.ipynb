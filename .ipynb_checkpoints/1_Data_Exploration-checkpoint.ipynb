{
 "cells": [
  {
   "cell_type": "code",
   "execution_count": 95,
   "metadata": {},
   "outputs": [],
   "source": [
    "import pandas as pd\n",
    "import seaborn as sns\n",
    "import matplotlib.pyplot as plt"
   ]
  },
  {
   "cell_type": "code",
   "execution_count": 34,
   "metadata": {},
   "outputs": [
    {
     "data": {
      "text/html": [
       "<div>\n",
       "<style scoped>\n",
       "    .dataframe tbody tr th:only-of-type {\n",
       "        vertical-align: middle;\n",
       "    }\n",
       "\n",
       "    .dataframe tbody tr th {\n",
       "        vertical-align: top;\n",
       "    }\n",
       "\n",
       "    .dataframe thead th {\n",
       "        text-align: right;\n",
       "    }\n",
       "</style>\n",
       "<table border=\"1\" class=\"dataframe\">\n",
       "  <thead>\n",
       "    <tr style=\"text-align: right;\">\n",
       "      <th></th>\n",
       "      <th>LOT_ID</th>\n",
       "      <th>WAFER_ID</th>\n",
       "      <th>WAFER_SCRIBE_ID</th>\n",
       "      <th>INSPECTION_DATE</th>\n",
       "      <th>REAL_WAFER_X</th>\n",
       "      <th>REAL_WAFER_Y</th>\n",
       "    </tr>\n",
       "  </thead>\n",
       "  <tbody>\n",
       "    <tr>\n",
       "      <th>0</th>\n",
       "      <td>L9193070</td>\n",
       "      <td>2</td>\n",
       "      <td>CZ6VP002JME7</td>\n",
       "      <td>2019-08-30 19:08:23</td>\n",
       "      <td>-126085.649</td>\n",
       "      <td>-58984.061</td>\n",
       "    </tr>\n",
       "    <tr>\n",
       "      <th>1</th>\n",
       "      <td>L9193070</td>\n",
       "      <td>2</td>\n",
       "      <td>CZ6VP002JME7</td>\n",
       "      <td>2019-08-30 19:08:23</td>\n",
       "      <td>-121082.798</td>\n",
       "      <td>20609.006</td>\n",
       "    </tr>\n",
       "    <tr>\n",
       "      <th>2</th>\n",
       "      <td>L9193070</td>\n",
       "      <td>2</td>\n",
       "      <td>CZ6VP002JME7</td>\n",
       "      <td>2019-08-30 19:08:23</td>\n",
       "      <td>-116857.277</td>\n",
       "      <td>-32152.882</td>\n",
       "    </tr>\n",
       "    <tr>\n",
       "      <th>3</th>\n",
       "      <td>L9193070</td>\n",
       "      <td>2</td>\n",
       "      <td>CZ6VP002JME7</td>\n",
       "      <td>2019-08-30 19:08:23</td>\n",
       "      <td>-116424.445</td>\n",
       "      <td>812.345</td>\n",
       "    </tr>\n",
       "    <tr>\n",
       "      <th>4</th>\n",
       "      <td>L9193070</td>\n",
       "      <td>2</td>\n",
       "      <td>CZ6VP002JME7</td>\n",
       "      <td>2019-08-30 19:08:23</td>\n",
       "      <td>-114201.168</td>\n",
       "      <td>-38353.723</td>\n",
       "    </tr>\n",
       "  </tbody>\n",
       "</table>\n",
       "</div>"
      ],
      "text/plain": [
       "     LOT_ID  WAFER_ID WAFER_SCRIBE_ID      INSPECTION_DATE  REAL_WAFER_X  \\\n",
       "0  L9193070         2    CZ6VP002JME7  2019-08-30 19:08:23   -126085.649   \n",
       "1  L9193070         2    CZ6VP002JME7  2019-08-30 19:08:23   -121082.798   \n",
       "2  L9193070         2    CZ6VP002JME7  2019-08-30 19:08:23   -116857.277   \n",
       "3  L9193070         2    CZ6VP002JME7  2019-08-30 19:08:23   -116424.445   \n",
       "4  L9193070         2    CZ6VP002JME7  2019-08-30 19:08:23   -114201.168   \n",
       "\n",
       "   REAL_WAFER_Y  \n",
       "0    -58984.061  \n",
       "1     20609.006  \n",
       "2    -32152.882  \n",
       "3       812.345  \n",
       "4    -38353.723  "
      ]
     },
     "execution_count": 34,
     "metadata": {},
     "output_type": "execute_result"
    }
   ],
   "source": [
    "df = pd.read_csv('dataset/wafer_defect_scans.csv')\n",
    "df.head()"
   ]
  },
  {
   "cell_type": "code",
   "execution_count": 35,
   "metadata": {},
   "outputs": [
    {
     "data": {
      "text/html": [
       "<div>\n",
       "<style scoped>\n",
       "    .dataframe tbody tr th:only-of-type {\n",
       "        vertical-align: middle;\n",
       "    }\n",
       "\n",
       "    .dataframe tbody tr th {\n",
       "        vertical-align: top;\n",
       "    }\n",
       "\n",
       "    .dataframe thead th {\n",
       "        text-align: right;\n",
       "    }\n",
       "</style>\n",
       "<table border=\"1\" class=\"dataframe\">\n",
       "  <thead>\n",
       "    <tr style=\"text-align: right;\">\n",
       "      <th></th>\n",
       "      <th>WAFER_ID</th>\n",
       "      <th>REAL_WAFER_X</th>\n",
       "      <th>REAL_WAFER_Y</th>\n",
       "    </tr>\n",
       "  </thead>\n",
       "  <tbody>\n",
       "    <tr>\n",
       "      <th>count</th>\n",
       "      <td>251656.000000</td>\n",
       "      <td>251656.000000</td>\n",
       "      <td>251656.000000</td>\n",
       "    </tr>\n",
       "    <tr>\n",
       "      <th>mean</th>\n",
       "      <td>257.999336</td>\n",
       "      <td>17461.493177</td>\n",
       "      <td>-8566.614313</td>\n",
       "    </tr>\n",
       "    <tr>\n",
       "      <th>std</th>\n",
       "      <td>227.834533</td>\n",
       "      <td>59104.063809</td>\n",
       "      <td>68094.759972</td>\n",
       "    </tr>\n",
       "    <tr>\n",
       "      <th>min</th>\n",
       "      <td>1.000000</td>\n",
       "      <td>-143368.468000</td>\n",
       "      <td>-144592.654000</td>\n",
       "    </tr>\n",
       "    <tr>\n",
       "      <th>25%</th>\n",
       "      <td>79.000000</td>\n",
       "      <td>-11832.381000</td>\n",
       "      <td>-62245.006250</td>\n",
       "    </tr>\n",
       "    <tr>\n",
       "      <th>50%</th>\n",
       "      <td>155.000000</td>\n",
       "      <td>9343.222500</td>\n",
       "      <td>-15415.741500</td>\n",
       "    </tr>\n",
       "    <tr>\n",
       "      <th>75%</th>\n",
       "      <td>360.000000</td>\n",
       "      <td>69567.793250</td>\n",
       "      <td>50428.717250</td>\n",
       "    </tr>\n",
       "    <tr>\n",
       "      <th>max</th>\n",
       "      <td>972.000000</td>\n",
       "      <td>143575.667000</td>\n",
       "      <td>146373.224000</td>\n",
       "    </tr>\n",
       "  </tbody>\n",
       "</table>\n",
       "</div>"
      ],
      "text/plain": [
       "            WAFER_ID   REAL_WAFER_X   REAL_WAFER_Y\n",
       "count  251656.000000  251656.000000  251656.000000\n",
       "mean      257.999336   17461.493177   -8566.614313\n",
       "std       227.834533   59104.063809   68094.759972\n",
       "min         1.000000 -143368.468000 -144592.654000\n",
       "25%        79.000000  -11832.381000  -62245.006250\n",
       "50%       155.000000    9343.222500  -15415.741500\n",
       "75%       360.000000   69567.793250   50428.717250\n",
       "max       972.000000  143575.667000  146373.224000"
      ]
     },
     "execution_count": 35,
     "metadata": {},
     "output_type": "execute_result"
    }
   ],
   "source": [
    "df.describe()"
   ]
  },
  {
   "cell_type": "code",
   "execution_count": 36,
   "metadata": {},
   "outputs": [
    {
     "data": {
      "text/plain": [
       "LOT_ID              object\n",
       "WAFER_ID             int64\n",
       "WAFER_SCRIBE_ID     object\n",
       "INSPECTION_DATE     object\n",
       "REAL_WAFER_X       float64\n",
       "REAL_WAFER_Y       float64\n",
       "dtype: object"
      ]
     },
     "execution_count": 36,
     "metadata": {},
     "output_type": "execute_result"
    }
   ],
   "source": [
    "df.dtypes"
   ]
  },
  {
   "cell_type": "code",
   "execution_count": 120,
   "metadata": {},
   "outputs": [],
   "source": [
    "df['INSPECTION_DATE'] = pd.to_datetime(df['INSPECTION_DATE'])"
   ]
  },
  {
   "cell_type": "code",
   "execution_count": 129,
   "metadata": {},
   "outputs": [
    {
     "data": {
      "image/png": "[encoded data removed]",
      "text/plain": [
       "<Figure size 432x288 with 1 Axes>"
      ]
     },
     "metadata": {
      "needs_background": "light"
     },
     "output_type": "display_data"
    }
   ],
   "source": [
    "time_df = df.groupby(['INSPECTION_DATE']).size()\n",
    "sns.lineplot(data=time_df)\n",
    "plt.xticks(rotation=90)\n",
    "plt.show()"
   ]
  },
  {
   "cell_type": "markdown",
   "metadata": {},
   "source": [
    "## Data relationship check"
   ]
  },
  {
   "cell_type": "code",
   "execution_count": 130,
   "metadata": {},
   "outputs": [
    {
     "data": {
      "text/plain": [
       "LOT_ID\n",
       "H9195980     190\n",
       "H9195990      67\n",
       "H9201370     102\n",
       "H9203230     221\n",
       "H9211250      43\n",
       "            ... \n",
       "L9296530     106\n",
       "L9304630    3181\n",
       "L9305100      43\n",
       "L9305590      47\n",
       "L9306030      96\n",
       "Length: 478, dtype: int64"
      ]
     },
     "execution_count": 130,
     "metadata": {},
     "output_type": "execute_result"
    }
   ],
   "source": [
    "df.groupby(['LOT_ID']).size()"
   ]
  },
  {
   "cell_type": "code",
   "execution_count": 131,
   "metadata": {},
   "outputs": [
    {
     "data": {
      "text/plain": [
       "LOT_ID    WAFER_ID\n",
       "H9195980  163          20\n",
       "          164         170\n",
       "H9195990  107          32\n",
       "          108          35\n",
       "H9201370  214          74\n",
       "                     ... \n",
       "L9305100  7            28\n",
       "L9305590  62           25\n",
       "          63           22\n",
       "L9306030  703          56\n",
       "          711          40\n",
       "Length: 1103, dtype: int64"
      ]
     },
     "execution_count": 131,
     "metadata": {},
     "output_type": "execute_result"
    }
   ],
   "source": [
    "df.groupby(['LOT_ID','WAFER_ID']).size()"
   ]
  },
  {
   "cell_type": "code",
   "execution_count": 132,
   "metadata": {},
   "outputs": [
    {
     "data": {
      "text/plain": [
       "LOT_ID    WAFER_ID  WAFER_SCRIBE_ID\n",
       "H9195980  163       DC2CM163JMC6        20\n",
       "          164       DC2CM164JMH0       170\n",
       "H9195990  107       DC2DB107JKA2        32\n",
       "          108       DC2DB108JKE4        35\n",
       "H9201370  214       IFZBJ214MMG0        74\n",
       "                                      ... \n",
       "L9305100  7         M7FMY007WAB0        28\n",
       "L9305590  62        IFZPD062MMC4        25\n",
       "          63        IFZPD063MMG6        22\n",
       "L9306030  703       M7F5A703WAA1        56\n",
       "          711       M7F5A711WAD4        40\n",
       "Length: 1103, dtype: int64"
      ]
     },
     "execution_count": 132,
     "metadata": {},
     "output_type": "execute_result"
    }
   ],
   "source": [
    "df.groupby(['LOT_ID','WAFER_ID','WAFER_SCRIBE_ID']).size()"
   ]
  },
  {
   "cell_type": "code",
   "execution_count": 133,
   "metadata": {},
   "outputs": [
    {
     "name": "stdout",
     "output_type": "stream",
     "text": [
      "0\n"
     ]
    },
    {
     "data": {
      "text/plain": [
       "0"
      ]
     },
     "execution_count": 133,
     "metadata": {},
     "output_type": "execute_result"
    }
   ],
   "source": [
    "# Relationship between LOT_ID & WAFER_ID and WAFER_SCRIBE_ID is 1 to 1\n",
    "print(sum(df.groupby(['LOT_ID','WAFER_ID','WAFER_SCRIBE_ID']\n",
    "              ).size().to_numpy() != df.groupby(\n",
    "    ['LOT_ID','WAFER_ID']).size().to_numpy()))\n",
    "\n",
    "uniq_df1 = df.groupby(['WAFER_SCRIBE_ID','LOT_ID','WAFER_ID']).size().reset_index()\n",
    "uniq_df2 = df.groupby(['LOT_ID','WAFER_ID','WAFER_SCRIBE_ID']).size().reset_index()\n",
    "sum(pd.merge(uniq_df2,uniq_df1,\n",
    "    on=['WAFER_SCRIBE_ID','LOT_ID','WAFER_ID'],how='left')['0_y'].isna())"
   ]
  },
  {
   "cell_type": "markdown",
   "metadata": {},
   "source": [
    "## Displaying wafer scan"
   ]
  },
  {
   "cell_type": "code",
   "execution_count": 136,
   "metadata": {},
   "outputs": [],
   "source": [
    "df_xy = df[df['WAFER_SCRIBE_ID'] == 'CZ6VP002JME7']"
   ]
  },
  {
   "cell_type": "code",
   "execution_count": 137,
   "metadata": {},
   "outputs": [
    {
     "data": {
      "image/png": "[encoded data removed]",
      "text/plain": [
       "<Figure size 576x576 with 1 Axes>"
      ]
     },
     "metadata": {
      "needs_background": "light"
     },
     "output_type": "display_data"
    }
   ],
   "source": [
    "fig, ax = plt.subplots(figsize=(8, 8))\n",
    "sns.scatterplot(data=df_xy,x='REAL_WAFER_X',y='REAL_WAFER_Y')\n",
    "plt.xlim([-150000,150000])\n",
    "plt.ylim([-150000,150000])\n",
    "plt.xticks(fontsize=14)\n",
    "plt.yticks(fontsize=14)\n",
    "plt.xlabel('')\n",
    "plt.ylabel('')\n",
    "circle = plt.Circle((0, 0), 150000, \n",
    "                    color='r',fill=None)\n",
    "ax.add_patch(circle)\n",
    "plt.show()"
   ]
  },
  {
   "cell_type": "code",
   "execution_count": null,
   "metadata": {},
   "outputs": [],
   "source": []
  }
 ],
 "metadata": {
  "kernelspec": {
   "display_name": "Python 3",
   "language": "python",
   "name": "python3"
  },
  "language_info": {
   "codemirror_mode": {
    "name": "ipython",
    "version": 3
   },
   "file_extension": ".py",
   "mimetype": "text/x-python",
   "name": "python",
   "nbconvert_exporter": "python",
   "pygments_lexer": "ipython3",
   "version": "3.7.4"
  }
 },
 "nbformat": 4,
 "nbformat_minor": 2
}
