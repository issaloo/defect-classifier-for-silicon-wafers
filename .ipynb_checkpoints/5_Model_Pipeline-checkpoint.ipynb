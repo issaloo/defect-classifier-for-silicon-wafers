{
 "cells": [
  {
   "cell_type": "code",
   "execution_count": 1,
   "id": "1c770fe8",
   "metadata": {},
   "outputs": [],
   "source": [
    "import joblib\n",
    "import openpyxl\n",
    "import pickle\n",
    "\n",
    "import hdbscan\n",
    "import matplotlib.pyplot as plt\n",
    "import numpy as np\n",
    "import pandas as pd\n",
    "import seaborn as sns\n",
    "\n",
    "from scipy.spatial import ConvexHull\n",
    "from sklearn.cluster import DBSCAN\n",
    "from sklearn.ensemble import RandomForestClassifier\n",
    "from sklearn.model_selection import train_test_split\n",
    "from sklearn.pipeline import Pipeline"
   ]
  },
  {
   "cell_type": "markdown",
   "id": "6f44d65f-ce95-4f56-b120-420f17970898",
   "metadata": {},
   "source": [
    "# 1. Train best classifier (Random Forest)"
   ]
  },
  {
   "cell_type": "code",
   "execution_count": 67,
   "id": "67fb0bb6-efde-442f-8712-d163291d7e21",
   "metadata": {},
   "outputs": [],
   "source": [
    "# Prepare data for modeling\n",
    "model_df = pd.read_csv('model_dataset/labeled_processed_data.csv')\n",
    "model_df.drop(columns=['LOT_ID', 'WAFER_ID', 'WAFER_SCRIBE_ID',\n",
    "                       'c_id'], inplace=True)\n",
    "X = model_df.drop(columns='class')\n",
    "y = model_df['class']\n",
    "X_train, X_test, y_train, y_test = train_test_split(X, y,\n",
    "                                                    stratify=y, \n",
    "                                                    test_size=0.15,\n",
    "                                                    random_state=11)\n",
    "\n",
    "# Train model\n",
    "clf = RandomForestClassifier(n_estimators=700,\n",
    "                             class_weight='balanced_subsample',\n",
    "                             min_samples_split=5,\n",
    "                             min_samples_leaf=1,\n",
    "                             max_features='auto',\n",
    "                             max_depth=None,\n",
    "                             bootstrap=False)\n",
    "clf.fit(X_train, y_train)\n",
    "\n",
    "# Save the model to disk\n",
    "filename = 'gross_failure_classifier.sav'\n",
    "pickle.dump(clf, open(filename, 'wb'))\n",
    "\n",
    "# Load the model from disk\n",
    "loaded_model = joblib.load(filename)"
   ]
  },
  {
   "cell_type": "markdown",
   "id": "c2b7f8f9-6d39-40e8-ae79-34e00272633b",
   "metadata": {},
   "source": [
    "# 2. Create pipeline for prediction"
   ]
  },
  {
   "cell_type": "markdown",
   "id": "b479e768-578f-45f9-a929-03de730b2902",
   "metadata": {},
   "source": [
    "## Import data, clean, and process"
   ]
  },
  {
   "cell_type": "code",
   "execution_count": 68,
   "id": "9415f563-4849-4adc-8f75-e99e8d27397b",
   "metadata": {},
   "outputs": [],
   "source": [
    "# Input raw data\n",
    "raw_csv_paths = 'raw_dataset/QAFQN156KOG7.csv'"
   ]
  },
  {
   "cell_type": "code",
   "execution_count": 69,
   "id": "f8d79fe0-a3c0-46e1-b922-cfc7ff7d7767",
   "metadata": {},
   "outputs": [],
   "source": [
    "df = pd.read_csv(raw_csv_paths)\n",
    "df.rename(columns={'REAL_WAFER_X': 'X', 'REAL_WAFER_Y': 'Y'}, \n",
    "          inplace=True)\n",
    "df[['X', 'Y']] = df[['X', 'Y']]/1000"
   ]
  },
  {
   "cell_type": "markdown",
   "id": "109a74bd-9530-4e3b-88d0-2b4c029662e9",
   "metadata": {},
   "source": [
    "## Perform clustering"
   ]
  },
  {
   "cell_type": "code",
   "execution_count": 70,
   "id": "402de1aa-7530-4d75-814f-f26b751d3b09",
   "metadata": {},
   "outputs": [],
   "source": [
    "# Cluster with DBSCAN and HDBSCAN\n",
    "clusterer = DBSCAN(eps=10, min_samples=4).fit(df[['X', 'Y']])\n",
    "df['c_id'] = 1 + clusterer.labels_\n",
    "df_sub = df.copy()\n",
    "clusterer = hdbscan.HDBSCAN(min_samples=4)\n",
    "clusterer.fit(df_sub[['X', 'Y']])\n",
    "df_sub['c_id'] = 1 + clusterer.labels_\n",
    "df = pd.merge(df, df_sub[['X', 'Y', 'c_id']], \n",
    "              on=['X', 'Y'], suffixes=('', '_y'))\n",
    "df.loc[\n",
    "    (df['c_id'] == 0) & (df['c_id_y'] != 0), 'c_id'] = df.loc[\n",
    "    (df['c_id'] == 0) & (df['c_id_y'] != 0),\n",
    "    'c_id_y'] + df['c_id'].max()\n",
    "df.drop(columns='c_id_y', inplace=True)\n",
    "\n",
    "# Any clusters that are less than 4 samples are not considered issues\n",
    "cluster_size = df['c_id'].value_counts()\n",
    "df.loc[df['c_id'].map(cluster_size) <= 4, 'c_id'] = 0"
   ]
  },
  {
   "cell_type": "markdown",
   "id": "7107ec8c-b085-4071-83eb-4e71c842b547",
   "metadata": {},
   "source": [
    "## Calculate features"
   ]
  },
  {
   "cell_type": "code",
   "execution_count": 71,
   "id": "9f34abfe-eac7-4741-be0f-a8aea6f5cae6",
   "metadata": {},
   "outputs": [],
   "source": [
    "# Initialize functions for calculating features\n",
    "def PolygonArea(xy):\n",
    "    \"\"\"Calculate the area of xy coordinates.\n",
    "    \n",
    "    Arg:\n",
    "        xy (array): 2D array with x coordinates as the first column and \n",
    "            y coordinates as the second column\n",
    "    Return:\n",
    "        polygon_area (float): Area of the shape createdd by xy coordinates\n",
    "    \"\"\"\n",
    "    x = xy[:, 0]\n",
    "    y = xy[:, 1]\n",
    "    x_ = x - x.mean()\n",
    "    y_ = y - y.mean()\n",
    "    correction = x_[-1]*y_[0] - y_[-1]*x_[0]\n",
    "    main_area = np.dot(x_[:-1], y_[1:]) - np.dot(y_[:-1], x_[1:])\n",
    "    polygon_area = 0.5*np.abs(main_area + correction)\n",
    "    return polygon_area\n",
    "\n",
    "def area(cluster_df):\n",
    "    \"\"\"Calculate the area of the outer xy coordinates of the cluster.\n",
    "    \n",
    "        Arg:\n",
    "            cluster_df (dataframe): Cluster dataframe containing xy coordinate \n",
    "                columns\n",
    "        Return:\n",
    "            cluster_area (float): Area of the cluster created by outer xy \n",
    "                coordinates\n",
    "    \"\"\"\n",
    "    cluster_xy = cluster_df[['X', 'Y']].values\n",
    "    if cluster_xy.shape[0] < 3:\n",
    "        cluster_area = 0\n",
    "    else:\n",
    "        if (all(cluster_xy[:, 0] == cluster_xy[1, 0]) \n",
    "            | all(cluster_xy[:, 1] == cluster_xy[1, 1])):\n",
    "            cluster_area = 0\n",
    "        else:\n",
    "            hull = ConvexHull(cluster_xy)\n",
    "            hull_pts = cluster_xy[hull.vertices, :]\n",
    "            cluster_area = PolygonArea(hull_pts)\n",
    "    return cluster_area\n",
    "\n",
    "def cluster_length(cluster_df):\n",
    "    \"\"\"Calculate the length of the cluster.\n",
    "    \n",
    "    Arg:\n",
    "        cluster_df (dataframe): Cluster dataframe containing xy coordinate \n",
    "            columns\n",
    "    Return:\n",
    "        cluster_len (float): Length of the cluster that is determined by \n",
    "            the two points furthest away from each other\n",
    "    \"\"\"\n",
    "    cluster_xy = cluster_df[['X', 'Y']].values\n",
    "    if cluster_xy.shape[0] < 2:\n",
    "        cluster_len = 0\n",
    "    else:\n",
    "        dist_arr = np.sqrt(np.sum(cluster_xy**2,axis=1))\n",
    "        coordA = cluster_xy[np.argmax(dist_arr), :]\n",
    "        cdf_moved = cluster_xy[:] - coordA[:]\n",
    "        dist_arr = np.sqrt(np.sum(cdf_moved**2,axis=1))\n",
    "        coordB = cluster_xy[np.argmax(dist_arr), :]\n",
    "        cluster_len = np.linalg.norm(coordA - coordB)\n",
    "    return cluster_len"
   ]
  },
  {
   "cell_type": "code",
   "execution_count": 72,
   "id": "7a4ecca3-563f-458f-a04e-27ae6ff14913",
   "metadata": {},
   "outputs": [],
   "source": [
    "num_wafer_pt_df = (df.groupby(\n",
    "                   ['LOT_ID', 'WAFER_ID', 'WAFER_SCRIBE_ID'])\n",
    "                         .size()\n",
    "                         .reset_index())\n",
    "num_wafer_pt_df.rename(columns={0: 'NUM_WAFER_PT'}, inplace=True)\n",
    "cent_wafer_xy_df = (df.groupby(\n",
    "                    ['LOT_ID', 'WAFER_ID', 'WAFER_SCRIBE_ID'])\n",
    "                          .agg({'X': np.mean, 'Y': np.mean})\n",
    "                          .reset_index())\n",
    "cent_wafer_xy_df.rename(\n",
    "    columns={'X': 'WAFER_CENTX', 'Y': 'WAFER_CENTY'}, inplace=True)\n",
    "num_cluster_df = df.loc[df['c_id'] != 0, :].copy()\n",
    "num_cluster_df = (num_cluster_df.groupby(\n",
    "                  ['LOT_ID', 'WAFER_ID', 'WAFER_SCRIBE_ID'])\n",
    "                                .agg({'c_id': 'nunique'})\n",
    "                                .reset_index())\n",
    "num_cluster_df.rename(\n",
    "    columns={'c_id': 'NUM_CLUSTER'}, inplace=True)\n",
    "wafer_feat_df = num_wafer_pt_df.merge(cent_wafer_xy_df)\n",
    "wafer_feat_df = wafer_feat_df.merge(num_cluster_df, how='left')\n",
    "wafer_feat_df['NUM_CLUSTER'].fillna(0, inplace=True)\n",
    "num_cluster_pt_df = (df.groupby(\n",
    "                     ['LOT_ID', 'WAFER_ID', 'WAFER_SCRIBE_ID', 'c_id'])\n",
    "                                 .size()\n",
    "                                 .reset_index())\n",
    "num_cluster_pt_df.rename(columns={0: 'NUM_PT'}, inplace=True)\n",
    "cent_cluster_xy_df = (df.groupby(\n",
    "                      ['LOT_ID', 'WAFER_ID', 'WAFER_SCRIBE_ID', 'c_id'])\n",
    "                                  .agg({'X': np.mean, 'Y': np.mean})\n",
    "                                  .reset_index())\n",
    "cent_cluster_xy_df.rename(\n",
    "    columns={'X': 'CENTX', 'Y': 'CENTY'}, inplace=True)\n",
    "cent_cluster_xy_df['DIST_FROM_CENTER'] = np.sqrt(\n",
    "    cent_cluster_xy_df['CENTX']**2 \n",
    "    + cent_cluster_xy_df['CENTY']**2)\n",
    "area_cluster_df = (df.groupby(\n",
    "                   ['LOT_ID', 'WAFER_ID', 'WAFER_SCRIBE_ID', 'c_id'])\n",
    "                               .apply(area)\n",
    "                               .reset_index())\n",
    "area_cluster_df.rename(columns={0: 'AREA'}, inplace=True)\n",
    "len_cluster_df = (df.groupby(\n",
    "                  ['LOT_ID', 'WAFER_ID', 'WAFER_SCRIBE_ID', 'c_id'])\n",
    "                              .apply(cluster_length)\n",
    "                              .reset_index())\n",
    "len_cluster_df.rename(columns={0: 'LENGTH'}, inplace=True)\n",
    "cluster_feat_df = num_cluster_pt_df.merge(cent_cluster_xy_df)\n",
    "cluster_feat_df = cluster_feat_df.merge(cent_cluster_xy_df)\n",
    "cluster_feat_df = cluster_feat_df.merge(area_cluster_df)\n",
    "cluster_feat_df = cluster_feat_df.merge(len_cluster_df)\n",
    "all_feat_df = cluster_feat_df.merge(wafer_feat_df)\n",
    "\n",
    "not_clustered = all_feat_df[all_feat_df['c_id'] == 0].copy()\n",
    "all_feat_df = all_feat_df[all_feat_df['c_id'] != 0]"
   ]
  },
  {
   "cell_type": "markdown",
   "id": "fa1461c6-1b82-4f43-b4b3-3572e47c331e",
   "metadata": {},
   "source": [
    "## Predict failure area type of clusters"
   ]
  },
  {
   "cell_type": "code",
   "execution_count": 73,
   "id": "bb8834b7-e7c3-4923-a8e1-1042c2f34502",
   "metadata": {},
   "outputs": [],
   "source": [
    "# Load model and predict\n",
    "feat_only_df = all_feat_df.drop(\n",
    "    columns=['c_id', 'LOT_ID', 'WAFER_ID', 'WAFER_SCRIBE_ID'])\n",
    "all_feat_df['PRED'] = loaded_model.predict(feat_only_df)\n",
    "pred_df = pd.concat((not_clustered, all_feat_df))\n",
    "pred_df.loc[pred_df['PRED'].isna(), 'PRED'] = 'none'"
   ]
  },
  {
   "cell_type": "markdown",
   "id": "ae2ccf2e-a76b-4670-b972-77dbae55d357",
   "metadata": {},
   "source": [
    "# 3. Present predictions"
   ]
  },
  {
   "cell_type": "code",
   "execution_count": 74,
   "id": "e49733fb-57ab-4d72-8fcc-234e7eae6bac",
   "metadata": {},
   "outputs": [],
   "source": [
    "labeled_df = pd.merge(df, \n",
    "                      pred_df[['LOT_ID', 'WAFER_ID', \n",
    "                               'WAFER_SCRIBE_ID', 'c_id', 'PRED']],\n",
    "                      on=['LOT_ID', 'WAFER_ID', 'WAFER_SCRIBE_ID', 'c_id'],\n",
    "                      how='left')\n",
    "\n",
    "# All none predictions have cluster ids set to 0\n",
    "c_id_mapping = (labeled_df.loc[labeled_df['PRED'] != 'none', ['c_id', 'PRED']]\n",
    "     .drop_duplicates()\n",
    "     .sort_values(by='PRED', ascending=True))\n",
    "c_id_mapping['c_id_new'] = range(1, c_id_mapping.shape[0] + 1)\n",
    "labeled_df = pd.merge(labeled_df,\n",
    "                        c_id_mapping[['c_id', 'c_id_new']],\n",
    "                        on='c_id',\n",
    "                        how='left').drop(columns='c_id').rename(columns={'c_id_new': 'c_id'})\n",
    "labeled_df.loc[labeled_df['c_id'].isna(), 'c_id'] = 0\n",
    "labeled_df['c_id'] = labeled_df['c_id'].astype(int)\n",
    "\n",
    "# Rename data columns\n",
    "labeled_df.columns = ['Lot ID', 'Wafer ID', 'Wafer Scribe ID', 'Inspection Date', 'X', 'Y', 'Pred. Type', 'Pred. Cluster ID']"
   ]
  },
  {
   "cell_type": "code",
   "execution_count": 75,
   "id": "60fc7e60-f478-456c-9e3a-62990282bbe6",
   "metadata": {},
   "outputs": [
    {
     "data": {
      "text/html": [
       "<div>\n",
       "<style scoped>\n",
       "    .dataframe tbody tr th:only-of-type {\n",
       "        vertical-align: middle;\n",
       "    }\n",
       "\n",
       "    .dataframe tbody tr th {\n",
       "        vertical-align: top;\n",
       "    }\n",
       "\n",
       "    .dataframe thead th {\n",
       "        text-align: right;\n",
       "    }\n",
       "</style>\n",
       "<table border=\"1\" class=\"dataframe\">\n",
       "  <thead>\n",
       "    <tr style=\"text-align: right;\">\n",
       "      <th></th>\n",
       "      <th>Pred. Type</th>\n",
       "      <th>Pred. Total</th>\n",
       "    </tr>\n",
       "  </thead>\n",
       "  <tbody>\n",
       "    <tr>\n",
       "      <th>0</th>\n",
       "      <td>Focus Spot</td>\n",
       "      <td>6</td>\n",
       "    </tr>\n",
       "    <tr>\n",
       "      <th>1</th>\n",
       "      <td>Scratch</td>\n",
       "      <td>4</td>\n",
       "    </tr>\n",
       "  </tbody>\n",
       "</table>\n",
       "</div>"
      ],
      "text/plain": [
       "   Pred. Type  Pred. Total\n",
       "0  Focus Spot            6\n",
       "1     Scratch            4"
      ]
     },
     "execution_count": 75,
     "metadata": {},
     "output_type": "execute_result"
    }
   ],
   "source": [
    "# Summarize predictions\n",
    "pred_summary = pred_df[pred_df['PRED'] != 'none'].groupby(['PRED']).size().reset_index()\n",
    "pred_summary.rename(columns={'PRED': 'Pred. Type',\n",
    "                             0: 'Pred. Total'},\n",
    "                    inplace=True)\n",
    "pred_summary['Pred. Type'] = pred_summary['Pred. Type'].map(\n",
    "    {'focus_spot': 'Focus Spot', 'scratch': 'Scratch'})\n",
    "pred_summary.head()"
   ]
  },
  {
   "cell_type": "code",
   "execution_count": 92,
   "id": "4c430631-ee89-44bb-988a-bdb31fb9f947",
   "metadata": {},
   "outputs": [
    {
     "data": {
      "image/png": "[encoded data removed]",
      "text/plain": [
       "<Figure size 576x576 with 1 Axes>"
      ]
     },
     "metadata": {},
     "output_type": "display_data"
    }
   ],
   "source": [
    "# Display predictions on wafer\n",
    "noneType_df = labeled_df[labeled_df['Pred. Type'] == 'none'].copy()\n",
    "detectedType_df = labeled_df[labeled_df['Pred. Type'] != 'none'].copy()\n",
    "\n",
    "plt.style.use('fivethirtyeight')\n",
    "fig, ax = plt.subplots( figsize=(8, 8))\n",
    "if ~noneType_df.empty:\n",
    "    sns.scatterplot(x='X', y='Y', data=noneType_df,\n",
    "                    color='grey', ax=ax, marker='.', s=7)\n",
    "if ~detectedType_df.empty: \n",
    "    sns.scatterplot(x='X', y='Y', data=detectedType_df,\n",
    "                    hue='Pred. Cluster ID', style='Pred. Type', ax=ax)\n",
    "plt.xlim([-150, 150])\n",
    "plt.ylim([-150, 150])\n",
    "plt.axis('off')\n",
    "circle = plt.Circle((0, 0), 150, color='r', fill=None)\n",
    "ax.add_patch(circle)\n",
    "plt.legend(bbox_to_anchor=(1, 1), \n",
    "           loc='upper left', ncol=1, prop={'size': 8})\n",
    "plt.title('%s Wafer #%s' % (labeled_df['Lot ID'].unique()[0],\n",
    "                               labeled_df['Wafer ID'].unique()[0]))\n",
    "plt.show()"
   ]
  },
  {
   "cell_type": "code",
   "execution_count": 97,
   "id": "a0ed18e5-ec30-46df-b822-e9152b1e20dc",
   "metadata": {},
   "outputs": [
    {
     "ename": "ValueError",
     "evalue": "Invalid file path or buffer object type: <class 'pandas.core.series.Series'>",
     "output_type": "error",
     "traceback": [
      "\u001b[1;31m---------------------------------------------------------------------------\u001b[0m",
      "\u001b[1;31mValueError\u001b[0m                                Traceback (most recent call last)",
      "\u001b[1;32m<ipython-input-97-437a4e234ea5>\u001b[0m in \u001b[0;36m<module>\u001b[1;34m\u001b[0m\n\u001b[0;32m      4\u001b[0m \u001b[1;33m\u001b[0m\u001b[0m\n\u001b[0;32m      5\u001b[0m \u001b[0mexcel_name\u001b[0m \u001b[1;33m=\u001b[0m \u001b[0mlabeled_df\u001b[0m\u001b[1;33m[\u001b[0m\u001b[1;34m'Wafer Scribe ID'\u001b[0m\u001b[1;33m]\u001b[0m \u001b[1;33m+\u001b[0m \u001b[1;34m'_Predictions_Raw'\u001b[0m\u001b[1;33m\u001b[0m\u001b[1;33m\u001b[0m\u001b[0m\n\u001b[1;32m----> 6\u001b[1;33m \u001b[0mlabeled_df\u001b[0m\u001b[1;33m.\u001b[0m\u001b[0mto_excel\u001b[0m\u001b[1;33m(\u001b[0m\u001b[0mexcel_name\u001b[0m\u001b[1;33m,\u001b[0m \u001b[0mindex\u001b[0m\u001b[1;33m=\u001b[0m\u001b[1;32mFalse\u001b[0m\u001b[1;33m)\u001b[0m\u001b[1;33m\u001b[0m\u001b[1;33m\u001b[0m\u001b[0m\n\u001b[0m",
      "\u001b[1;32mc:\\users\\issal\\appdata\\local\\programs\\python\\python39\\lib\\site-packages\\pandas\\core\\generic.py\u001b[0m in \u001b[0;36mto_excel\u001b[1;34m(self, excel_writer, sheet_name, na_rep, float_format, columns, header, index, index_label, startrow, startcol, engine, merge_cells, encoding, inf_rep, verbose, freeze_panes, storage_options)\u001b[0m\n\u001b[0;32m   2187\u001b[0m             \u001b[0minf_rep\u001b[0m\u001b[1;33m=\u001b[0m\u001b[0minf_rep\u001b[0m\u001b[1;33m,\u001b[0m\u001b[1;33m\u001b[0m\u001b[1;33m\u001b[0m\u001b[0m\n\u001b[0;32m   2188\u001b[0m         )\n\u001b[1;32m-> 2189\u001b[1;33m         formatter.write(\n\u001b[0m\u001b[0;32m   2190\u001b[0m             \u001b[0mexcel_writer\u001b[0m\u001b[1;33m,\u001b[0m\u001b[1;33m\u001b[0m\u001b[1;33m\u001b[0m\u001b[0m\n\u001b[0;32m   2191\u001b[0m             \u001b[0msheet_name\u001b[0m\u001b[1;33m=\u001b[0m\u001b[0msheet_name\u001b[0m\u001b[1;33m,\u001b[0m\u001b[1;33m\u001b[0m\u001b[1;33m\u001b[0m\u001b[0m\n",
      "\u001b[1;32mc:\\users\\issal\\appdata\\local\\programs\\python\\python39\\lib\\site-packages\\pandas\\io\\formats\\excel.py\u001b[0m in \u001b[0;36mwrite\u001b[1;34m(self, writer, sheet_name, startrow, startcol, freeze_panes, engine, storage_options)\u001b[0m\n\u001b[0;32m    813\u001b[0m             \u001b[1;31m# abstract class 'ExcelWriter' with abstract attributes 'engine',\u001b[0m\u001b[1;33m\u001b[0m\u001b[1;33m\u001b[0m\u001b[1;33m\u001b[0m\u001b[0m\n\u001b[0;32m    814\u001b[0m             \u001b[1;31m# 'save', 'supported_extensions' and 'write_cells'  [abstract]\u001b[0m\u001b[1;33m\u001b[0m\u001b[1;33m\u001b[0m\u001b[1;33m\u001b[0m\u001b[0m\n\u001b[1;32m--> 815\u001b[1;33m             writer = ExcelWriter(  # type: ignore[abstract]\n\u001b[0m\u001b[0;32m    816\u001b[0m                 \u001b[0mwriter\u001b[0m\u001b[1;33m,\u001b[0m \u001b[0mengine\u001b[0m\u001b[1;33m=\u001b[0m\u001b[0mengine\u001b[0m\u001b[1;33m,\u001b[0m \u001b[0mstorage_options\u001b[0m\u001b[1;33m=\u001b[0m\u001b[0mstorage_options\u001b[0m\u001b[1;33m\u001b[0m\u001b[1;33m\u001b[0m\u001b[0m\n\u001b[0;32m    817\u001b[0m             )\n",
      "\u001b[1;32mc:\\users\\issal\\appdata\\local\\programs\\python\\python39\\lib\\site-packages\\pandas\\io\\excel\\_openpyxl.py\u001b[0m in \u001b[0;36m__init__\u001b[1;34m(self, path, engine, mode, storage_options, **engine_kwargs)\u001b[0m\n\u001b[0;32m     30\u001b[0m         \u001b[1;32mfrom\u001b[0m \u001b[0mopenpyxl\u001b[0m\u001b[1;33m.\u001b[0m\u001b[0mworkbook\u001b[0m \u001b[1;32mimport\u001b[0m \u001b[0mWorkbook\u001b[0m\u001b[1;33m\u001b[0m\u001b[1;33m\u001b[0m\u001b[0m\n\u001b[0;32m     31\u001b[0m \u001b[1;33m\u001b[0m\u001b[0m\n\u001b[1;32m---> 32\u001b[1;33m         super().__init__(\n\u001b[0m\u001b[0;32m     33\u001b[0m             \u001b[0mpath\u001b[0m\u001b[1;33m,\u001b[0m \u001b[0mmode\u001b[0m\u001b[1;33m=\u001b[0m\u001b[0mmode\u001b[0m\u001b[1;33m,\u001b[0m \u001b[0mstorage_options\u001b[0m\u001b[1;33m=\u001b[0m\u001b[0mstorage_options\u001b[0m\u001b[1;33m,\u001b[0m \u001b[1;33m**\u001b[0m\u001b[0mengine_kwargs\u001b[0m\u001b[1;33m\u001b[0m\u001b[1;33m\u001b[0m\u001b[0m\n\u001b[0;32m     34\u001b[0m         )\n",
      "\u001b[1;32mc:\\users\\issal\\appdata\\local\\programs\\python\\python39\\lib\\site-packages\\pandas\\io\\excel\\_base.py\u001b[0m in \u001b[0;36m__init__\u001b[1;34m(self, path, engine, date_format, datetime_format, mode, storage_options, **engine_kwargs)\u001b[0m\n\u001b[0;32m    808\u001b[0m         \u001b[0mself\u001b[0m\u001b[1;33m.\u001b[0m\u001b[0mhandles\u001b[0m \u001b[1;33m=\u001b[0m \u001b[0mIOHandles\u001b[0m\u001b[1;33m(\u001b[0m\u001b[0mcast\u001b[0m\u001b[1;33m(\u001b[0m\u001b[0mBuffer\u001b[0m\u001b[1;33m,\u001b[0m \u001b[0mpath\u001b[0m\u001b[1;33m)\u001b[0m\u001b[1;33m,\u001b[0m \u001b[0mcompression\u001b[0m\u001b[1;33m=\u001b[0m\u001b[1;33m{\u001b[0m\u001b[1;34m\"copression\"\u001b[0m\u001b[1;33m:\u001b[0m \u001b[1;32mNone\u001b[0m\u001b[1;33m}\u001b[0m\u001b[1;33m)\u001b[0m\u001b[1;33m\u001b[0m\u001b[1;33m\u001b[0m\u001b[0m\n\u001b[0;32m    809\u001b[0m         \u001b[1;32mif\u001b[0m \u001b[1;32mnot\u001b[0m \u001b[0misinstance\u001b[0m\u001b[1;33m(\u001b[0m\u001b[0mpath\u001b[0m\u001b[1;33m,\u001b[0m \u001b[0mExcelWriter\u001b[0m\u001b[1;33m)\u001b[0m\u001b[1;33m:\u001b[0m\u001b[1;33m\u001b[0m\u001b[1;33m\u001b[0m\u001b[0m\n\u001b[1;32m--> 810\u001b[1;33m             self.handles = get_handle(\n\u001b[0m\u001b[0;32m    811\u001b[0m                 \u001b[0mpath\u001b[0m\u001b[1;33m,\u001b[0m \u001b[0mmode\u001b[0m\u001b[1;33m,\u001b[0m \u001b[0mstorage_options\u001b[0m\u001b[1;33m=\u001b[0m\u001b[0mstorage_options\u001b[0m\u001b[1;33m,\u001b[0m \u001b[0mis_text\u001b[0m\u001b[1;33m=\u001b[0m\u001b[1;32mFalse\u001b[0m\u001b[1;33m\u001b[0m\u001b[1;33m\u001b[0m\u001b[0m\n\u001b[0;32m    812\u001b[0m             )\n",
      "\u001b[1;32mc:\\users\\issal\\appdata\\local\\programs\\python\\python39\\lib\\site-packages\\pandas\\io\\common.py\u001b[0m in \u001b[0;36mget_handle\u001b[1;34m(path_or_buf, mode, encoding, compression, memory_map, is_text, errors, storage_options)\u001b[0m\n\u001b[0;32m    556\u001b[0m \u001b[1;33m\u001b[0m\u001b[0m\n\u001b[0;32m    557\u001b[0m     \u001b[1;31m# open URLs\u001b[0m\u001b[1;33m\u001b[0m\u001b[1;33m\u001b[0m\u001b[1;33m\u001b[0m\u001b[0m\n\u001b[1;32m--> 558\u001b[1;33m     ioargs = _get_filepath_or_buffer(\n\u001b[0m\u001b[0;32m    559\u001b[0m         \u001b[0mpath_or_buf\u001b[0m\u001b[1;33m,\u001b[0m\u001b[1;33m\u001b[0m\u001b[1;33m\u001b[0m\u001b[0m\n\u001b[0;32m    560\u001b[0m         \u001b[0mencoding\u001b[0m\u001b[1;33m=\u001b[0m\u001b[0mencoding\u001b[0m\u001b[1;33m,\u001b[0m\u001b[1;33m\u001b[0m\u001b[1;33m\u001b[0m\u001b[0m\n",
      "\u001b[1;32mc:\\users\\issal\\appdata\\local\\programs\\python\\python39\\lib\\site-packages\\pandas\\io\\common.py\u001b[0m in \u001b[0;36m_get_filepath_or_buffer\u001b[1;34m(filepath_or_buffer, encoding, compression, mode, storage_options)\u001b[0m\n\u001b[0;32m    369\u001b[0m     \u001b[1;32mif\u001b[0m \u001b[1;32mnot\u001b[0m \u001b[0mis_file_like\u001b[0m\u001b[1;33m(\u001b[0m\u001b[0mfilepath_or_buffer\u001b[0m\u001b[1;33m)\u001b[0m\u001b[1;33m:\u001b[0m\u001b[1;33m\u001b[0m\u001b[1;33m\u001b[0m\u001b[0m\n\u001b[0;32m    370\u001b[0m         \u001b[0mmsg\u001b[0m \u001b[1;33m=\u001b[0m \u001b[1;34mf\"Invalid file path or buffer object type: {type(filepath_or_buffer)}\"\u001b[0m\u001b[1;33m\u001b[0m\u001b[1;33m\u001b[0m\u001b[0m\n\u001b[1;32m--> 371\u001b[1;33m         \u001b[1;32mraise\u001b[0m \u001b[0mValueError\u001b[0m\u001b[1;33m(\u001b[0m\u001b[0mmsg\u001b[0m\u001b[1;33m)\u001b[0m\u001b[1;33m\u001b[0m\u001b[1;33m\u001b[0m\u001b[0m\n\u001b[0m\u001b[0;32m    372\u001b[0m \u001b[1;33m\u001b[0m\u001b[0m\n\u001b[0;32m    373\u001b[0m     return IOArgs(\n",
      "\u001b[1;31mValueError\u001b[0m: Invalid file path or buffer object type: <class 'pandas.core.series.Series'>"
     ]
    }
   ],
   "source": [
    "# Report out raw prediction file\n",
    "labeled_df = labeled_df[['Lot ID', 'Wafer ID', 'Wafer Scribe ID', 'Inspection Date', 'X', 'Y',\n",
    "       'Pred. Cluster ID', 'Pred. Type']]\n",
    "\n",
    "excel_name = labeled_df['Wafer Scribe ID'] + '_Predictions_Raw.excel'\n",
    "labeled_df.to_excel(excel_name, index=False)"
   ]
  },
  {
   "cell_type": "code",
   "execution_count": null,
   "id": "01ab1135-229c-4108-825a-f86a04a3c681",
   "metadata": {},
   "outputs": [],
   "source": []
  }
 ],
 "metadata": {
  "kernelspec": {
   "display_name": "Python 3",
   "language": "python",
   "name": "python3"
  },
  "language_info": {
   "codemirror_mode": {
    "name": "ipython",
    "version": 3
   },
   "file_extension": ".py",
   "mimetype": "text/x-python",
   "name": "python",
   "nbconvert_exporter": "python",
   "pygments_lexer": "ipython3",
   "version": "3.9.5"
  }
 },
 "nbformat": 4,
 "nbformat_minor": 5
}
