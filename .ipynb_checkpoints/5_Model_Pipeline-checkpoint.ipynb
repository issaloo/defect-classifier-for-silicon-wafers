{
 "cells": [
  {
   "cell_type": "code",
   "execution_count": null,
   "id": "9a30d84a-0de8-4a96-8f98-6e03189a2f29",
   "metadata": {},
   "outputs": [],
   "source": [
    "# Notes\n",
    "# Imbalanced dataset, None > Focus Spot > Scratch\n",
    "# Clear differences between Focus Spot and Scratch\n",
    "# Scratch has smaller area and larger length, while Focus Spot has the opposite\n",
    "# Area and length are related to number of clusters\n",
    "\n",
    "# Imbalanced dataset, might want to use neighbors = 1\n",
    "# Weights = Distance, closer the better\n",
    "# Uniform means the top x neighbors would have the same voting power!\n",
    "\n",
    "#<-------20---------><-------20---------><-------20---------><-------18------->\n"
   ]
  },
  {
   "cell_type": "code",
   "execution_count": 175,
   "id": "1c770fe8",
   "metadata": {},
   "outputs": [],
   "source": [
    "import joblib\n",
    "import pickle\n",
    "\n",
    "import hdbscan\n",
    "import matplotlib.pyplot as plt\n",
    "import numpy as np\n",
    "import pandas as pd\n",
    "import seaborn as sns\n",
    "\n",
    "from scipy.spatial import ConvexHull\n",
    "from sklearn.ensemble import RandomForestClassifier\n",
    "from sklearn.cluster import DBSCAN\n",
    "from sklearn.model_selection import train_test_split\n",
    "from sklearn.pipeline import Pipeline"
   ]
  },
  {
   "cell_type": "markdown",
   "id": "6f44d65f-ce95-4f56-b120-420f17970898",
   "metadata": {},
   "source": [
    "# 1. Train best classifier (Random Forest)"
   ]
  },
  {
   "cell_type": "code",
   "execution_count": 2,
   "id": "67fb0bb6-efde-442f-8712-d163291d7e21",
   "metadata": {},
   "outputs": [],
   "source": [
    "# Prepare data for modeling\n",
    "model_df = pd.read_csv('model_dataset/labeled_processed_data.csv')\n",
    "model_df['class'] = 'none'\n",
    "model_df.loc[model_df['scratch'] == 1, 'class'] = 'scratch'\n",
    "model_df.loc[model_df['focus_spot'] == 1, 'class'] = 'focus_spot'\n",
    "model_df.drop(columns=['LOT_ID', 'WAFER_ID', 'WAFER_SCRIBE_ID',\n",
    "                       'c_id', 'none', 'scratch', 'focus_spot'], inplace=True)\n",
    "X = model_df.drop(columns='class')\n",
    "y = model_df['class']\n",
    "X_train, X_test, y_train, y_test = train_test_split(X, y,\n",
    "                                                    stratify=y, \n",
    "                                                    test_size=0.15,\n",
    "                                                    random_state=11)\n",
    "\n",
    "# Train model\n",
    "clf = RandomForestClassifier(n_estimators=700,\n",
    "                             class_weight='balanced_subsample',\n",
    "                             min_samples_split=5,\n",
    "                             min_samples_leaf=1,\n",
    "                             max_features='auto',\n",
    "                             max_depth=None,\n",
    "                             bootstrap=False)\n",
    "clf.fit(X_train, y_train)\n",
    "\n",
    "# Save the model to disk\n",
    "filename = 'gross_failure_classifier.sav'\n",
    "pickle.dump(clf, open(filename, 'wb'))\n",
    "\n",
    "# Load the model from disk\n",
    "loaded_model = joblib.load(filename)"
   ]
  },
  {
   "cell_type": "markdown",
   "id": "c2b7f8f9-6d39-40e8-ae79-34e00272633b",
   "metadata": {},
   "source": [
    "# 2. Create pipeline for prediction"
   ]
  },
  {
   "cell_type": "markdown",
   "id": "b479e768-578f-45f9-a929-03de730b2902",
   "metadata": {},
   "source": [
    "### Import data, clean, and process"
   ]
  },
  {
   "cell_type": "code",
   "execution_count": 309,
   "id": "9415f563-4849-4adc-8f75-e99e8d27397b",
   "metadata": {},
   "outputs": [],
   "source": [
    "# Input raw data\n",
    "raw_data_path = 'raw_dataset/QAFQN156KOG7.csv'"
   ]
  },
  {
   "cell_type": "code",
   "execution_count": 310,
   "id": "f8d79fe0-a3c0-46e1-b922-cfc7ff7d7767",
   "metadata": {},
   "outputs": [],
   "source": [
    "df = pd.read_csv(raw_data_path)\n",
    "df.rename(columns={'REAL_WAFER_X': 'X', 'REAL_WAFER_Y': 'Y'}, \n",
    "          inplace=True)\n",
    "df[['X', 'Y']] = df[['X', 'Y']]/1000"
   ]
  },
  {
   "cell_type": "markdown",
   "id": "109a74bd-9530-4e3b-88d0-2b4c029662e9",
   "metadata": {},
   "source": [
    "### Perform clustering"
   ]
  },
  {
   "cell_type": "code",
   "execution_count": 311,
   "id": "402de1aa-7530-4d75-814f-f26b751d3b09",
   "metadata": {},
   "outputs": [],
   "source": [
    "# Cluster with DBSCAN and HDBSCAN\n",
    "clusterer = DBSCAN(eps=10, min_samples=4).fit(df[['X', 'Y']])\n",
    "df['c_id'] = 1 + clusterer.labels_\n",
    "df_sub = df.copy()\n",
    "clusterer = hdbscan.HDBSCAN(min_samples=4)\n",
    "clusterer.fit(df_sub[['X', 'Y']])\n",
    "df_sub['c_id'] = 1 + clusterer.labels_\n",
    "df = pd.merge(df, df_sub[['X', 'Y', 'c_id']], \n",
    "              on=['X', 'Y'], suffixes=('', '_y'))\n",
    "df.loc[\n",
    "    (df['c_id'] == 0) & (df['c_id_y'] != 0), 'c_id'] = df.loc[\n",
    "    (df['c_id'] == 0) & (df['c_id_y'] != 0),\n",
    "    'c_id_y'] + df['c_id'].max()\n",
    "df.drop(columns='c_id_y', inplace=True)\n",
    "\n",
    "# Any clusters that are less than 4 samples are not considered issues\n",
    "cluster_size = df['c_id'].value_counts()\n",
    "df.loc[df['c_id'].map(cluster_size) <= 4, 'c_id'] = 0"
   ]
  },
  {
   "cell_type": "markdown",
   "id": "7107ec8c-b085-4071-83eb-4e71c842b547",
   "metadata": {},
   "source": [
    "### Calculate features"
   ]
  },
  {
   "cell_type": "code",
   "execution_count": 312,
   "id": "9f34abfe-eac7-4741-be0f-a8aea6f5cae6",
   "metadata": {},
   "outputs": [],
   "source": [
    "# Initialize functions for calculating features\n",
    "def PolygonArea(xy):\n",
    "    \"\"\"Calculate the area of xy coordinates.\n",
    "    \n",
    "    Arg:\n",
    "        xy (array): 2D array with x coordinates as the first column and \n",
    "            y coordinates as the second column\n",
    "    Return:\n",
    "        polygon_area (float): Area of the shape createdd by xy coordinates\n",
    "    \"\"\"\n",
    "    x = xy[:, 0]\n",
    "    y = xy[:, 1]\n",
    "    x_ = x - x.mean()\n",
    "    y_ = y - y.mean()\n",
    "    correction = x_[-1]*y_[0] - y_[-1]*x_[0]\n",
    "    main_area = np.dot(x_[:-1], y_[1:]) - np.dot(y_[:-1], x_[1:])\n",
    "    polygon_area = 0.5*np.abs(main_area + correction)\n",
    "    return polygon_area\n",
    "\n",
    "def area(cluster_df):\n",
    "    \"\"\"Calculate the area of the outer xy coordinates of the cluster.\n",
    "    \n",
    "        Arg:\n",
    "            cluster_df (dataframe): Cluster dataframe containing xy coordinate \n",
    "                columns\n",
    "        Return:\n",
    "            cluster_area (float): Area of the cluster created by outer xy \n",
    "                coordinates\n",
    "    \"\"\"\n",
    "    cluster_xy = cluster_df[['X', 'Y']].values\n",
    "    if cluster_xy.shape[0] < 3:\n",
    "        cluster_area = 0\n",
    "    else:\n",
    "        if (all(cluster_xy[:, 0] == cluster_xy[1, 0]) \n",
    "            | all(cluster_xy[:, 1] == cluster_xy[1, 1])):\n",
    "            cluster_area = 0\n",
    "        else:\n",
    "            hull = ConvexHull(cluster_xy)\n",
    "            hull_pts = cluster_xy[hull.vertices, :]\n",
    "            cluster_area = PolygonArea(hull_pts)\n",
    "    return cluster_area\n",
    "\n",
    "def cluster_length(cluster_df):\n",
    "    \"\"\"Calculate the length of the cluster.\n",
    "    \n",
    "    Arg:\n",
    "        cluster_df (dataframe): Cluster dataframe containing xy coordinate \n",
    "            columns\n",
    "    Return:\n",
    "        cluster_len (float): Length of the cluster that is determined by \n",
    "            the two points furthest away from each other\n",
    "    \"\"\"\n",
    "    cluster_xy = cluster_df[['X', 'Y']].values\n",
    "    if cluster_xy.shape[0] < 2:\n",
    "        cluster_len = 0\n",
    "    else:\n",
    "        dist_arr = np.sqrt(np.sum(cluster_xy**2,axis=1))\n",
    "        coordA = cluster_xy[np.argmax(dist_arr), :]\n",
    "        cdf_moved = cluster_xy[:] - coordA[:]\n",
    "        dist_arr = np.sqrt(np.sum(cdf_moved**2,axis=1))\n",
    "        coordB = cluster_xy[np.argmax(dist_arr), :]\n",
    "        cluster_len = np.linalg.norm(coordA - coordB)\n",
    "    return cluster_len"
   ]
  },
  {
   "cell_type": "code",
   "execution_count": 313,
   "id": "7a4ecca3-563f-458f-a04e-27ae6ff14913",
   "metadata": {},
   "outputs": [],
   "source": [
    "num_wafer_pt_df = (df.groupby(\n",
    "                   ['LOT_ID', 'WAFER_ID', 'WAFER_SCRIBE_ID'])\n",
    "                         .size()\n",
    "                         .reset_index())\n",
    "num_wafer_pt_df.rename(columns={0: 'NUM_WAFER_PT'}, inplace=True)\n",
    "cent_wafer_xy_df = (df.groupby(\n",
    "                    ['LOT_ID', 'WAFER_ID', 'WAFER_SCRIBE_ID'])\n",
    "                          .agg({'X': np.mean, 'Y': np.mean})\n",
    "                          .reset_index())\n",
    "cent_wafer_xy_df.rename(\n",
    "    columns={'X': 'WAFER_CENTX', 'Y': 'WAFER_CENTY'}, inplace=True)\n",
    "num_cluster_df = df.loc[df['c_id'] != 0, :].copy()\n",
    "num_cluster_df = (num_cluster_df.groupby(\n",
    "                  ['LOT_ID', 'WAFER_ID', 'WAFER_SCRIBE_ID'])\n",
    "                                .agg({'c_id': 'nunique'})\n",
    "                                .reset_index())\n",
    "num_cluster_df.rename(\n",
    "    columns={'c_id': 'NUM_CLUSTER'}, inplace=True)\n",
    "wafer_feat_df = num_wafer_pt_df.merge(cent_wafer_xy_df)\n",
    "wafer_feat_df = wafer_feat_df.merge(num_cluster_df, how='left')\n",
    "wafer_feat_df['NUM_CLUSTER'].fillna(0, inplace=True)\n",
    "num_cluster_pt_df = (df.groupby(\n",
    "                     ['LOT_ID', 'WAFER_ID', 'WAFER_SCRIBE_ID', 'c_id'])\n",
    "                                 .size()\n",
    "                                 .reset_index())\n",
    "num_cluster_pt_df.rename(columns={0: 'NUM_PT'}, inplace=True)\n",
    "cent_cluster_xy_df = (df.groupby(\n",
    "                      ['LOT_ID', 'WAFER_ID', 'WAFER_SCRIBE_ID', 'c_id'])\n",
    "                                  .agg({'X': np.mean, 'Y': np.mean})\n",
    "                                  .reset_index())\n",
    "cent_cluster_xy_df.rename(\n",
    "    columns={'X': 'CENTX', 'Y': 'CENTY'}, inplace=True)\n",
    "cent_cluster_xy_df['DIST_FROM_CENTER'] = np.sqrt(\n",
    "    cent_cluster_xy_df['CENTX']**2 \n",
    "    + cent_cluster_xy_df['CENTY']**2)\n",
    "area_cluster_df = (df.groupby(\n",
    "                   ['LOT_ID', 'WAFER_ID', 'WAFER_SCRIBE_ID', 'c_id'])\n",
    "                               .apply(area)\n",
    "                               .reset_index())\n",
    "area_cluster_df.rename(columns={0: 'AREA'}, inplace=True)\n",
    "len_cluster_df = (df.groupby(\n",
    "                  ['LOT_ID', 'WAFER_ID', 'WAFER_SCRIBE_ID', 'c_id'])\n",
    "                              .apply(cluster_length)\n",
    "                              .reset_index())\n",
    "len_cluster_df.rename(columns={0: 'LENGTH'}, inplace=True)\n",
    "cluster_feat_df = num_cluster_pt_df.merge(cent_cluster_xy_df)\n",
    "cluster_feat_df = cluster_feat_df.merge(cent_cluster_xy_df)\n",
    "cluster_feat_df = cluster_feat_df.merge(area_cluster_df)\n",
    "cluster_feat_df = cluster_feat_df.merge(len_cluster_df)\n",
    "all_feat_df = cluster_feat_df.merge(wafer_feat_df)\n",
    "\n",
    "not_clustered = all_feat_df[all_feat_df['c_id'] == 0].copy()\n",
    "all_feat_df = all_feat_df[all_feat_df['c_id'] != 0]"
   ]
  },
  {
   "cell_type": "markdown",
   "id": "fa1461c6-1b82-4f43-b4b3-3572e47c331e",
   "metadata": {},
   "source": [
    "### Predict failure area type of clusters"
   ]
  },
  {
   "cell_type": "code",
   "execution_count": 314,
   "id": "c8ea1d2f-b40c-4171-9a3d-ba88948d57b5",
   "metadata": {},
   "outputs": [],
   "source": [
    "feat_only_df = all_feat_df.drop(\n",
    "    columns=['c_id', 'LOT_ID', 'WAFER_ID', 'WAFER_SCRIBE_ID'])\n",
    "all_feat_df['PRED'] = loaded_model.predict(feat_only_df)\n",
    "pred_df = pd.concat((not_clustered, all_feat_df))\n",
    "pred_df.loc[pred_df['PRED'].isna(), 'PRED'] = 'none'\n",
    "\n",
    "labeled_df = pd.merge(df, \n",
    "                      pred_df[['LOT_ID', 'WAFER_ID', \n",
    "                               'WAFER_SCRIBE_ID', 'c_id', 'PRED']],\n",
    "                      on=['LOT_ID', 'WAFER_ID', 'WAFER_SCRIBE_ID', 'c_id'],\n",
    "                      how='left')"
   ]
  },
  {
   "cell_type": "code",
   "execution_count": 317,
   "id": "5ae5e616-a250-4b37-ab10-e9db72e9eeb1",
   "metadata": {},
   "outputs": [],
   "source": [
    "# All none predictions have cluster ids set to 0\n",
    "relabeled_df = labeled_df.copy()\n",
    "c_id_mapping = (relabeled_df.loc[relabeled_df['PRED'] != 'none', ['c_id', 'PRED']]\n",
    "     .drop_duplicates()\n",
    "     .sort_values(by='PRED', ascending=True))\n",
    "c_id_mapping['c_id_new'] = range(1, c_id_mapping.shape[0] + 1)\n",
    "relabeled_df = pd.merge(relabeled_df,\n",
    "                        c_id_mapping[['c_id', 'c_id_new']],\n",
    "                        on='c_id',\n",
    "                        how='left').drop(columns='c_id').rename(columns={'c_id_new': 'c_id'})\n",
    "relabeled_df.loc[relabeled_df['c_id'].isna(), 'c_id'] = 0\n",
    "relabeled_df['c_id'] = relabeled_df['c_id'].astype(int)"
   ]
  },
  {
   "cell_type": "code",
   "execution_count": null,
   "id": "f40c2bb4-3efb-467c-98ef-9e2a12756b5b",
   "metadata": {},
   "outputs": [],
   "source": []
  },
  {
   "cell_type": "markdown",
   "id": "ae2ccf2e-a76b-4670-b972-77dbae55d357",
   "metadata": {},
   "source": [
    "### 3. Present predictions"
   ]
  },
  {
   "cell_type": "code",
   "execution_count": 333,
   "id": "e49733fb-57ab-4d72-8fcc-234e7eae6bac",
   "metadata": {},
   "outputs": [],
   "source": [
    "# Rename data columns\n",
    "relabeled_df.columns = ['Lot ID', 'Wafer ID', 'Wafer Scribe ID', 'Inspection Date', 'X', 'Y', 'Pred. Type', 'Pred. Cluster ID']"
   ]
  },
  {
   "cell_type": "code",
   "execution_count": 334,
   "id": "60fc7e60-f478-456c-9e3a-62990282bbe6",
   "metadata": {},
   "outputs": [],
   "source": [
    "# Summarize predictions\n",
    "pred_summary = pred_df[pred_df['PRED'] != 'none'].groupby(['PRED']).size().reset_index()\n",
    "pred_summary.rename(columns={'PRED': 'Pred. Type',\n",
    "                             0: 'Total'},\n",
    "                    inplace=True)\n",
    "pred_summary['Pred. Type'] = pred_summary['Pred. Type'].map(\n",
    "    {'focus_spot': 'Focus Spot', 'scratch': 'Scratch'})"
   ]
  },
  {
   "cell_type": "code",
   "execution_count": 338,
   "id": "961766ef-187d-4464-bad8-54e5a5ecaf50",
   "metadata": {},
   "outputs": [],
   "source": [
    "noneType_df = relabeled_df[relabeled_df['Pred. Type'] == 'none'].copy()\n",
    "detectedType_df = relabeled_df[relabeled_df['Pred. Type'] != 'none'].copy()"
   ]
  },
  {
   "cell_type": "code",
   "execution_count": 347,
   "id": "9a6f6064-e502-4019-8d3a-0ffdceabc331",
   "metadata": {},
   "outputs": [
    {
     "data": {
      "image/png": "[encoded data removed]",
      "text/plain": [
       "<Figure size 432x1008 with 2 Axes>"
      ]
     },
     "metadata": {},
     "output_type": "display_data"
    }
   ],
   "source": [
    "plt.style.use('fivethirtyeight')\n",
    "fig, ax = plt.subplots(2, 1, figsize=(6, 14))\n",
    "sns.barplot(x='Pred. Type', y='Total', data=pred_summary, ax=ax[0])\n",
    "if ~noneType_df.empty:\n",
    "    sns.scatterplot(x='X', y='Y', data=noneType_df,\n",
    "                    color='grey', ax=ax[1], marker='.')\n",
    "if ~detectedType_df.empty: \n",
    "    sns.scatterplot(x='X', y='Y', data=detectedType_df,\n",
    "                    hue='Pred. Cluster ID', style='Pred. Type', ax=ax[1])\n",
    "plt.xlim([-150, 150])\n",
    "plt.ylim([-150, 150])\n",
    "plt.axis('off')\n",
    "circle = plt.Circle((0, 0), 150, color='r', fill=None)\n",
    "ax[1].add_patch(circle)\n",
    "plt.legend(bbox_to_anchor=(1.1, 1.1), loc='upper left', ncol=1, prop={'size': 8})\n",
    "plt.show()"
   ]
  },
  {
   "cell_type": "code",
   "execution_count": null,
   "id": "b006c609-a691-4a86-92d5-fab68dcd0d8f",
   "metadata": {},
   "outputs": [],
   "source": []
  }
 ],
 "metadata": {
  "kernelspec": {
   "display_name": "Python 3",
   "language": "python",
   "name": "python3"
  },
  "language_info": {
   "codemirror_mode": {
    "name": "ipython",
    "version": 3
   },
   "file_extension": ".py",
   "mimetype": "text/x-python",
   "name": "python",
   "nbconvert_exporter": "python",
   "pygments_lexer": "ipython3",
   "version": "3.9.5"
  }
 },
 "nbformat": 4,
 "nbformat_minor": 5
}
