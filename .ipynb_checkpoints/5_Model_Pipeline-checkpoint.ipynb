{
 "cells": [
  {
   "cell_type": "code",
   "execution_count": null,
   "id": "9a30d84a-0de8-4a96-8f98-6e03189a2f29",
   "metadata": {},
   "outputs": [],
   "source": [
    "# Notes\n",
    "# Imbalanced dataset, None > Focus Spot > Scratch\n",
    "# Clear differences between Focus Spot and Scratch\n",
    "# Scratch has smaller area and larger length, while Focus Spot has the opposite\n",
    "# Area and length are related to number of clusters\n",
    "\n",
    "# Imbalanced dataset, might want to use neighbors = 1\n",
    "# Weights = Distance, closer the better\n",
    "# Uniform means the top x neighbors would have the same voting power!\n",
    "\n",
    "#<-------20---------><-------20---------><-------20---------><-------18------->\n"
   ]
  },
  {
   "cell_type": "code",
   "execution_count": 11,
   "id": "1c770fe8",
   "metadata": {},
   "outputs": [],
   "source": [
    "import joblib\n",
    "import pickle\n",
    "\n",
    "import numpy as np\n",
    "import pandas as pd\n",
    "\n",
    "from sklearn.ensemble import RandomForestClassifier\n",
    "from sklearn.model_selection import train_test_split\n",
    "from sklearn.pipeline import Pipeline"
   ]
  },
  {
   "cell_type": "markdown",
   "id": "6f44d65f-ce95-4f56-b120-420f17970898",
   "metadata": {},
   "source": [
    "# 1. Train best classifier (Random Forest)"
   ]
  },
  {
   "cell_type": "code",
   "execution_count": 9,
   "id": "c15e9566",
   "metadata": {},
   "outputs": [],
   "source": [
    "# Prepare data for modeling\n",
    "model_df = pd.read_csv('model_dataset/labeled_processed_data.csv')\n",
    "model_df['class'] = 'none'\n",
    "model_df.loc[model_df['scratch'] == 1, 'class'] = 'scratch'\n",
    "model_df.loc[model_df['focus_spot'] == 1, 'class'] = 'focus_spot'\n",
    "model_df.drop(columns=['LOT_ID', 'WAFER_ID', 'WAFER_SCRIBE_ID',\n",
    "                       'c_id', 'none', 'scratch', 'focus_spot'], inplace=True)\n",
    "X = model_df.drop(columns='class')\n",
    "y = model_df['class']\n",
    "X_train, X_test, y_train, y_test = train_test_split(X, y,\n",
    "                                                    stratify=y, \n",
    "                                                    test_size=0.15,\n",
    "                                                    random_state=11)\n",
    "\n",
    "# Train model\n",
    "clf = RandomForestClassifier(n_estimators=700,\n",
    "                             class_weight='balanced_subsample',\n",
    "                             min_samples_split=5,\n",
    "                             min_samples_leaf=1,\n",
    "                             max_features='auto',\n",
    "                             max_depth=None,\n",
    "                             bootstrap=False)\n",
    "clf.fit(X_train, y_train)\n",
    "\n",
    "# Save the model to disk\n",
    "filename = 'gross_failure_classifier.sav'\n",
    "pickle.dump(clf, open(filename, 'wb'))"
   ]
  },
  {
   "cell_type": "code",
   "execution_count": 12,
   "id": "d1ff5d9e-5f28-4bc1-8704-04126b59cbf3",
   "metadata": {},
   "outputs": [],
   "source": [
    "# Load the model from disk\n",
    "loaded_model = joblib.load(filename)"
   ]
  },
  {
   "cell_type": "code",
   "execution_count": null,
   "id": "fdd0b400-7866-43e5-ad76-d972888ba528",
   "metadata": {},
   "outputs": [],
   "source": [
    "# Input csv from folder, cluster, calculate features, predict!!!"
   ]
  },
  {
   "cell_type": "code",
   "execution_count": 15,
   "id": "70ecf185-684a-46f4-a35a-b27fef4f9586",
   "metadata": {},
   "outputs": [
    {
     "data": {
      "text/plain": [
       "'labeled_dataset/QAFQN156KOG7.csv'"
      ]
     },
     "execution_count": 15,
     "metadata": {},
     "output_type": "execute_result"
    }
   ],
   "source": [
    "'labeled_dataset/QAFQN156KOG7.csv'"
   ]
  },
  {
   "cell_type": "code",
   "execution_count": null,
   "id": "306dc90a-f112-4693-86f0-778052cae250",
   "metadata": {},
   "outputs": [],
   "source": []
  }
 ],
 "metadata": {
  "kernelspec": {
   "display_name": "Python 3",
   "language": "python",
   "name": "python3"
  },
  "language_info": {
   "codemirror_mode": {
    "name": "ipython",
    "version": 3
   },
   "file_extension": ".py",
   "mimetype": "text/x-python",
   "name": "python",
   "nbconvert_exporter": "python",
   "pygments_lexer": "ipython3",
   "version": "3.9.5"
  }
 },
 "nbformat": 4,
 "nbformat_minor": 5
}
