{
 "cells": [
  {
   "cell_type": "code",
   "execution_count": 42,
   "id": "ba05b819",
   "metadata": {},
   "outputs": [],
   "source": [
    "import matplotlib.pyplot as plt\n",
    "import numpy as np\n",
    "import pandas as pd\n",
    "import seaborn as sns\n",
    "\n",
    "from imblearn.ensemble import BalancedRandomForestClassifier\n",
    "from sklearn.ensemble import RandomForestClassifier\n",
    "from sklearn.metrics import classification_report\n",
    "from sklearn.metrics import confusion_matrix\n",
    "from sklearn.model_selection import cross_val_score\n",
    "from sklearn.model_selection import train_test_split\n",
    "from sklearn.model_selection import RandomizedSearchCV\n",
    "from sklearn.model_selection import RepeatedStratifiedKFold"
   ]
  },
  {
   "cell_type": "markdown",
   "id": "f5eb2ec9",
   "metadata": {},
   "source": [
    "# 1. Prepare data for modeling"
   ]
  },
  {
   "cell_type": "code",
   "execution_count": 5,
   "id": "9668c643-7a3b-4521-b408-ca39e3ae3ffa",
   "metadata": {},
   "outputs": [],
   "source": [
    "model_df = pd.read_csv('model_dataset/labeled_processed_data.csv')\n",
    "model_df['class'] = 'none'\n",
    "model_df.loc[model_df['scratch'] == 1, 'class'] = 'scratch'\n",
    "model_df.loc[model_df['focus_spot'] == 1, 'class'] = 'focus_spot'\n",
    "model_df.drop(columns=['LOT_ID', 'WAFER_ID', 'WAFER_SCRIBE_ID',\n",
    "                       'c_id', 'none', 'scratch', 'focus_spot'], inplace=True)\n",
    "\n",
    "X = model_df.drop(columns='class')\n",
    "y = model_df['class']\n",
    "X_train, X_test_val, y_train, y_test_val = train_test_split(X, y,\n",
    "                                                    stratify=y, \n",
    "                                                    test_size=0.3,\n",
    "                                                    random_state=11)\n",
    "X_val, X_test, y_val, y_test = train_test_split(X_test_val, y_test_val,\n",
    "                                                    stratify=y_test_val, \n",
    "                                                    test_size=0.5,\n",
    "                                                    random_state=11)\n",
    "X_train = pd.concat((X_train, X_val))\n",
    "y_train = pd.concat((y_train, y_val))"
   ]
  },
  {
   "cell_type": "markdown",
   "id": "3e3274ed-d655-4700-8cec-b1655c411539",
   "metadata": {},
   "source": [
    "# 2. Hyperparameter tuning for Random Forest"
   ]
  },
  {
   "cell_type": "markdown",
   "id": "ee930bf4-9e5b-4ed1-b9fb-9f20d1e5a7c3",
   "metadata": {},
   "source": [
    "## Evaluate without weighting"
   ]
  },
  {
   "cell_type": "code",
   "execution_count": 26,
   "id": "75653f1e-dca6-4573-ab37-5286e507d02c",
   "metadata": {},
   "outputs": [
    {
     "name": "stdout",
     "output_type": "stream",
     "text": [
      "Mean F1-Score: 70.36%\n"
     ]
    }
   ],
   "source": [
    "clf = RandomForestClassifier(n_estimators=100,\n",
    "                             n_jobs=-1)\n",
    "cv = RepeatedStratifiedKFold(n_splits=5, n_repeats=3, random_state=2)\n",
    "scores = cross_val_score(clf, X_train, y_train, scoring='f1_macro',\n",
    "                         cv=cv, n_jobs=-1)\n",
    "print('Mean F1-Score: {:.2f}%'.format(np.mean(scores)*100))"
   ]
  },
  {
   "cell_type": "markdown",
   "id": "c0b36e14-45d4-4560-a71a-776973bf4c1a",
   "metadata": {},
   "source": [
    "## Evaluate with class weighting"
   ]
  },
  {
   "cell_type": "code",
   "execution_count": 27,
   "id": "be443da9-d5db-4118-90d0-0e322b06c9db",
   "metadata": {},
   "outputs": [
    {
     "name": "stdout",
     "output_type": "stream",
     "text": [
      "Mean F1-Score: 70.44%\n"
     ]
    }
   ],
   "source": [
    "clf = RandomForestClassifier(n_estimators=100, \n",
    "                             class_weight='balanced', \n",
    "                             n_jobs=-1)\n",
    "cv = RepeatedStratifiedKFold(n_splits=5, n_repeats=3, random_state=2)\n",
    "scores = cross_val_score(clf, X_train, y_train, scoring='f1_macro',\n",
    "                         cv=cv, n_jobs=-1)\n",
    "print('Mean F1-Score: {:.2f}%'.format(np.mean(scores)*100))"
   ]
  },
  {
   "cell_type": "markdown",
   "id": "5e6ebd7b-155f-4339-a59d-a4ec30c6f725",
   "metadata": {},
   "source": [
    "## Evaluate with bootstrap class weighting"
   ]
  },
  {
   "cell_type": "code",
   "execution_count": 28,
   "id": "82b56b08-9625-4083-bf06-021435e7e5cf",
   "metadata": {},
   "outputs": [
    {
     "name": "stdout",
     "output_type": "stream",
     "text": [
      "Mean F1-Score: 70.55%\n"
     ]
    }
   ],
   "source": [
    "clf = RandomForestClassifier(n_estimators=100, \n",
    "                             class_weight='balanced_subsample',\n",
    "                             n_jobs=-1)\n",
    "cv = RepeatedStratifiedKFold(n_splits=5, n_repeats=3, random_state=2)\n",
    "scores = cross_val_score(clf, X_train, y_train, scoring='f1_macro',\n",
    "                         cv=cv, n_jobs=-1)\n",
    "print('Mean F1-Score: {:.2f}%'.format(np.mean(scores)*100))"
   ]
  },
  {
   "cell_type": "markdown",
   "id": "a12a4ea7-c04c-41c6-a3ac-57cff05d0b1a",
   "metadata": {},
   "source": [
    "## Evaluate with random undersampling"
   ]
  },
  {
   "cell_type": "code",
   "execution_count": 24,
   "id": "4d46ef2b-117f-42d2-912d-6a1bf6d47cbf",
   "metadata": {},
   "outputs": [
    {
     "name": "stdout",
     "output_type": "stream",
     "text": [
      "Mean F1-Score: 65.66%\n"
     ]
    }
   ],
   "source": [
    "clf = BalancedRandomForestClassifier(n_estimators=100)\n",
    "cv = RepeatedStratifiedKFold(n_splits=5, n_repeats=3, random_state=2)\n",
    "scores = cross_val_score(clf, X_train, y_train, scoring='f1_macro',\n",
    "                         cv=cv, n_jobs=-1)\n",
    "print('Mean F1-Score: {:.2f}%'.format(np.mean(scores)*100))"
   ]
  },
  {
   "cell_type": "markdown",
   "id": "7ad17cd7-0409-4860-ae23-11ade1c9c84c",
   "metadata": {},
   "source": [
    "## Implement grid search on other hyperparameters"
   ]
  },
  {
   "cell_type": "code",
   "execution_count": 33,
   "id": "12e37bfb-b39b-4c18-8256-f98b53800e21",
   "metadata": {},
   "outputs": [
    {
     "data": {
      "text/plain": [
       "{'bootstrap': True,\n",
       " 'ccp_alpha': 0.0,\n",
       " 'class_weight': 'balanced_subsample',\n",
       " 'criterion': 'gini',\n",
       " 'max_depth': None,\n",
       " 'max_features': 'auto',\n",
       " 'max_leaf_nodes': None,\n",
       " 'max_samples': None,\n",
       " 'min_impurity_decrease': 0.0,\n",
       " 'min_impurity_split': None,\n",
       " 'min_samples_leaf': 1,\n",
       " 'min_samples_split': 2,\n",
       " 'min_weight_fraction_leaf': 0.0,\n",
       " 'n_estimators': 100,\n",
       " 'n_jobs': -1,\n",
       " 'oob_score': False,\n",
       " 'random_state': None,\n",
       " 'verbose': 0,\n",
       " 'warm_start': False}"
      ]
     },
     "execution_count": 33,
     "metadata": {},
     "output_type": "execute_result"
    }
   ],
   "source": [
    "clf = RandomForestClassifier(n_estimators=100, \n",
    "                             class_weight='balanced_subsample',\n",
    "                             n_jobs=-1)\n",
    "\n",
    "# Show parameters\n",
    "clf.get_params()"
   ]
  },
  {
   "cell_type": "code",
   "execution_count": 34,
   "id": "82d246ba-96eb-4c0e-af8f-4aff7b43da55",
   "metadata": {},
   "outputs": [],
   "source": [
    "# Create grid of hyperparameters\n",
    "bootstrap = [True, False]\n",
    "max_features = ['auto', 'sqrt']\n",
    "max_depth = [int(x) for x in range(80, 120, 10)]\n",
    "max_depth.append(None)\n",
    "min_samples_split = [2, 5, 10]\n",
    "min_samples_leaf = [1, 2, 4]\n",
    "n_estimators = [int(x) for x in range(100, 1000, 100)]\n",
    "\n",
    "grid = {'n_estimators': n_estimators,\n",
    "        'max_features': max_features,\n",
    "        'max_depth': max_depth,\n",
    "        'min_samples_split': min_samples_split,\n",
    "        'min_samples_leaf': min_samples_leaf,\n",
    "        'bootstrap': bootstrap}"
   ]
  },
  {
   "cell_type": "code",
   "execution_count": 44,
   "id": "8fcf4cb3-faad-4b6d-b9c7-2fd2cbdcb731",
   "metadata": {},
   "outputs": [],
   "source": [
    "random_search = RandomizedSearchCV(estimator=clf, param_distributions=grid,\n",
    "                         cv=5, n_jobs=-1, verbose=2)"
   ]
  },
  {
   "cell_type": "code",
   "execution_count": 46,
   "id": "0ac87321-7355-4419-b1cd-bf424416fb7e",
   "metadata": {},
   "outputs": [
    {
     "name": "stdout",
     "output_type": "stream",
     "text": [
      "Fitting 5 folds for each of 10 candidates, totalling 50 fits\n"
     ]
    },
    {
     "data": {
      "text/plain": [
       "RandomizedSearchCV(cv=5,\n",
       "                   estimator=RandomForestClassifier(class_weight='balanced_subsample',\n",
       "                                                    n_jobs=-1),\n",
       "                   n_jobs=-1,\n",
       "                   param_distributions={'bootstrap': [True, False],\n",
       "                                        'max_depth': [80, 90, 100, 110, None],\n",
       "                                        'max_features': ['auto', 'sqrt'],\n",
       "                                        'min_samples_leaf': [1, 2, 4],\n",
       "                                        'min_samples_split': [2, 5, 10],\n",
       "                                        'n_estimators': [100, 200, 300, 400,\n",
       "                                                         500, 600, 700, 800,\n",
       "                                                         900]},\n",
       "                   verbose=2)"
      ]
     },
     "execution_count": 46,
     "metadata": {},
     "output_type": "execute_result"
    }
   ],
   "source": [
    "random_search.fit(X_train, y_train)"
   ]
  },
  {
   "cell_type": "code",
   "execution_count": 49,
   "id": "4e9f6267-c949-4bbb-9a3c-065a548395e6",
   "metadata": {},
   "outputs": [
    {
     "data": {
      "text/plain": [
       "{'n_estimators': 700,\n",
       " 'min_samples_split': 5,\n",
       " 'min_samples_leaf': 1,\n",
       " 'max_features': 'auto',\n",
       " 'max_depth': None,\n",
       " 'bootstrap': False}"
      ]
     },
     "execution_count": 49,
     "metadata": {},
     "output_type": "execute_result"
    }
   ],
   "source": [
    "random_search.best_params_"
   ]
  },
  {
   "cell_type": "code",
   "execution_count": 51,
   "id": "23236e2d-c6c4-4364-8c62-7052b4d7fb9c",
   "metadata": {},
   "outputs": [],
   "source": [
    "best_random = random_search.best_estimator_"
   ]
  },
  {
   "cell_type": "code",
   "execution_count": 53,
   "id": "33a900f0-2620-4ea8-87e2-b175f2a6cb11",
   "metadata": {},
   "outputs": [
    {
     "name": "stdout",
     "output_type": "stream",
     "text": [
      "Mean F1-Score: 72.72%\n"
     ]
    }
   ],
   "source": [
    "cv = RepeatedStratifiedKFold(n_splits=5, n_repeats=3, random_state=2)\n",
    "scores = cross_val_score(best_random, X_train, y_train, scoring='f1_macro',\n",
    "                         cv=cv, n_jobs=-1)\n",
    "print('Mean F1-Score: {:.2f}%'.format(np.mean(scores)*100))"
   ]
  },
  {
   "cell_type": "markdown",
   "id": "2192a88f-8660-43b7-8670-52adf1e9efb4",
   "metadata": {},
   "source": [
    "# 3. Evaluate Random Forest with chosen hyperparameters"
   ]
  },
  {
   "cell_type": "code",
   "execution_count": 54,
   "id": "4a121561-6142-4f93-9ac1-87e66171abb9",
   "metadata": {},
   "outputs": [
    {
     "name": "stdout",
     "output_type": "stream",
     "text": [
      "              precision    recall  f1-score   support\n",
      "\n",
      "  focus_spot       0.81      0.85      0.83       144\n",
      "        none       0.95      0.95      0.95       505\n",
      "     scratch       0.56      0.41      0.47        34\n",
      "\n",
      "    accuracy                           0.90       683\n",
      "   macro avg       0.77      0.74      0.75       683\n",
      "weighted avg       0.90      0.90      0.90       683\n",
      "\n"
     ]
    },
    {
     "data": {
      "image/png": "[encoded data removed]",
      "text/plain": [
       "<Figure size 432x288 with 2 Axes>"
      ]
     },
     "metadata": {
      "needs_background": "light"
     },
     "output_type": "display_data"
    }
   ],
   "source": [
    "clf = RandomForestClassifier(n_estimators=700,\n",
    "                             class_weight='balanced_subsample',\n",
    "                             min_samples_split=5,\n",
    "                             min_samples_leaf=1,\n",
    "                             max_features='auto',\n",
    "                             max_depth=None,\n",
    "                             bootstrap=False)\n",
    "clf.fit(X_train, y_train)\n",
    "\n",
    "y_test_pred = clf.predict(X_test)\n",
    "print(classification_report(y_test, y_test_pred))\n",
    "cf_matrix = confusion_matrix(y_test, y_test_pred)\n",
    "labels = np.asarray(cf_matrix.flatten()).reshape(3,3)\n",
    "sns.heatmap(cf_matrix, annot=labels, fmt='', cmap='Blues',\n",
    "            xticklabels=['Focus Spot', 'None', 'Scratch'],\n",
    "            yticklabels=['Focus Spot', 'None', 'Scratch'])\n",
    "plt.yticks(rotation=0)\n",
    "plt.show()"
   ]
  }
 ],
 "metadata": {
  "kernelspec": {
   "display_name": "Python 3",
   "language": "python",
   "name": "python3"
  },
  "language_info": {
   "codemirror_mode": {
    "name": "ipython",
    "version": 3
   },
   "file_extension": ".py",
   "mimetype": "text/x-python",
   "name": "python",
   "nbconvert_exporter": "python",
   "pygments_lexer": "ipython3",
   "version": "3.9.5"
  }
 },
 "nbformat": 4,
 "nbformat_minor": 5
}
