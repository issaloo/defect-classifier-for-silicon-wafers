{
 "cells": [
  {
   "cell_type": "code",
   "execution_count": 1,
   "id": "a5eebf64",
   "metadata": {},
   "outputs": [],
   "source": [
    "import matplotlib.pyplot as plt\n",
    "import numpy as np\n",
    "import pandas as pd\n",
    "import seaborn as sns\n",
    "\n",
    "from sklearn.metrics import balanced_accuracy_score\n",
    "from sklearn.metrics import classification_report\n",
    "from sklearn.metrics import confusion_matrix\n",
    "from sklearn.model_selection import train_test_split\n",
    "from sklearn.neighbors import KNeighborsClassifier as knn\n",
    "from sklearn.preprocessing import MinMaxScaler"
   ]
  },
  {
   "cell_type": "markdown",
   "id": "96b6b7eb",
   "metadata": {},
   "source": [
    "# 1. Prepare data for modeling"
   ]
  },
  {
   "cell_type": "code",
   "execution_count": 2,
   "id": "764592d9",
   "metadata": {},
   "outputs": [],
   "source": [
    "model_df = pd.read_csv('model_dataset/labeled_processed_data.csv')\n",
    "model_df['class'] = 'none'\n",
    "model_df.loc[model_df['scratch'] == 1, 'class'] = 'scratch'\n",
    "model_df.loc[model_df['focus_spot'] == 1, 'class'] = 'focus_spot'\n",
    "model_df.drop(columns=['LOT_ID', 'WAFER_ID', 'WAFER_SCRIBE_ID',\n",
    "                       'c_id', 'none', 'scratch', 'focus_spot'], inplace=True)\n",
    "\n",
    "# Split data into test, training, and validation sets\n",
    "X = model_df.drop(columns='class')\n",
    "y = model_df['class']\n",
    "X_train, X_test_val, y_train, y_test_val = train_test_split(X, y,\n",
    "                                                    stratify=y, \n",
    "                                                    test_size=0.3,\n",
    "                                                    random_state=11)\n",
    "\n",
    "X_val, X_test, y_val, y_test = train_test_split(X_test_val, y_test_val,\n",
    "                                                    stratify=y_test_val, \n",
    "                                                    test_size=0.5,\n",
    "                                                    random_state=11)\n",
    "\n",
    "# Scale data to be between 1 and 0\n",
    "scaler = MinMaxScaler()\n",
    "X_train_scaled = scaler.fit_transform(X_train)\n",
    "X_val_scaled = scaler.fit_transform(X_val)\n",
    "X_test_scaled = scaler.fit_transform(X_test)"
   ]
  },
  {
   "cell_type": "markdown",
   "id": "a912ff68",
   "metadata": {},
   "source": [
    "# 2. Hyperparameter tuning for KNN"
   ]
  },
  {
   "cell_type": "code",
   "execution_count": 9,
   "id": "41b284fe-0469-4fca-ad50-1c1a97bd5dc7",
   "metadata": {},
   "outputs": [],
   "source": [
    "# Determine optimal K neighbors (using elbow method)\n",
    "acc_score_list = []\n",
    "for n in range(1, 20):\n",
    "    \n",
    "    # Initialize, fit, and predict using knn\n",
    "    clf = knn(n_neighbors=n, weights='distance')\n",
    "    clf.fit(X_train_scaled, y_train)\n",
    "    y_val_pred = clf.predict(X_val_scaled)\n",
    "    \n",
    "    # Record and collect accuracy score\n",
    "    acc_score_list.append(\n",
    "        [n, balanced_accuracy_score(y_val, y_val_pred)])\n",
    "\n",
    "# Plot accuracy score\n",
    "acc_score_df = pd.DataFrame(acc_score_list, \n",
    "                           columns=['Number of Neighbors', 'Accuracy Score'])\n",
    "plt.style.use('fivethirtyeight')\n",
    "sns.lineplot(x='Number of Neighbors', y='Accuracy Score', data=acc_score_df)\n",
    "plt.show()"
   ]
  },
  {
   "cell_type": "markdown",
   "id": "b4396c0d",
   "metadata": {},
   "source": [
    "# 3. Evaluate KNN with chosen hyperparameter"
   ]
  },
  {
   "cell_type": "code",
   "execution_count": 14,
   "id": "c53f4249-e77d-4d82-b252-41021a6aa6f4",
   "metadata": {},
   "outputs": [
    {
     "name": "stdout",
     "output_type": "stream",
     "text": [
      "              precision    recall  f1-score   support\n",
      "\n",
      "  focus_spot       0.58      0.58      0.58       144\n",
      "        none       0.89      0.88      0.88       505\n",
      "     scratch       0.22      0.24      0.23        34\n",
      "\n",
      "    accuracy                           0.79       683\n",
      "   macro avg       0.56      0.56      0.56       683\n",
      "weighted avg       0.79      0.79      0.79       683\n",
      "\n"
     ]
    },
    {
     "data": {
      "image/png": "[encoded data removed]",
      "text/plain": [
       "<Figure size 432x288 with 2 Axes>"
      ]
     },
     "metadata": {},
     "output_type": "display_data"
    }
   ],
   "source": [
    "# Set model hyperparameters (K = 1)\n",
    "clf = knn(n_neighbors=1, weights='distance')\n",
    "clf.fit(X_train_scaled, y_train)\n",
    "y_test_pred = clf.predict(X_test_scaled)\n",
    "\n",
    "print(classification_report(y_test, y_test_pred))\n",
    "cf_matrix = confusion_matrix(y_test, y_test_pred)\n",
    "labels = np.asarray(cf_matrix.flatten()).reshape(3,3)\n",
    "sns.heatmap(cf_matrix, annot=labels, fmt='', cmap='Blues',\n",
    "            xticklabels=['Focus Spot', 'None', 'Scratch'],\n",
    "            yticklabels=['Focus Spot', 'None', 'Scratch'])\n",
    "plt.yticks(rotation=0)\n",
    "plt.show()"
   ]
  },
  {
   "cell_type": "code",
   "execution_count": null,
   "id": "c8b0b24d-1804-4408-a42b-0ed35eab3df0",
   "metadata": {},
   "outputs": [],
   "source": []
  }
 ],
 "metadata": {
  "kernelspec": {
   "display_name": "Python 3",
   "language": "python",
   "name": "python3"
  },
  "language_info": {
   "codemirror_mode": {
    "name": "ipython",
    "version": 3
   },
   "file_extension": ".py",
   "mimetype": "text/x-python",
   "name": "python",
   "nbconvert_exporter": "python",
   "pygments_lexer": "ipython3",
   "version": "3.9.5"
  }
 },
 "nbformat": 4,
 "nbformat_minor": 5
}
