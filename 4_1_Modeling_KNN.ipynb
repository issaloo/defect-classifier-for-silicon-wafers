{
 "cells": [
  {
   "cell_type": "code",
   "execution_count": null,
   "id": "ed9cdb3c",
   "metadata": {},
   "outputs": [],
   "source": [
    "# Notes\n",
    "# Imbalanced dataset, None > Focus Spot > Scratch\n",
    "# Clear differences between Focus Spot and Scratch\n",
    "# Scratch has smaller area and larger length, while Focus Spot has the opposite\n",
    "# Area and length are related to number of clusters"
   ]
  },
  {
   "cell_type": "code",
   "execution_count": 1,
   "id": "0c2c3d75-7211-43d7-b648-32f4aea9b298",
   "metadata": {},
   "outputs": [],
   "source": [
    "#<-------20---------><-------20---------><-------20---------><-------18------->"
   ]
  },
  {
   "cell_type": "code",
   "execution_count": 7,
   "id": "621f9036",
   "metadata": {},
   "outputs": [],
   "source": [
    "import matplotlib.pyplot as plt\n",
    "import numpy as np\n",
    "import pandas as pd\n",
    "import seaborn as sns\n",
    "\n",
    "from sklearn.neighbors import KNeighborsClassifier as KNN"
   ]
  },
  {
   "cell_type": "code",
   "execution_count": 8,
   "id": "596b767c",
   "metadata": {},
   "outputs": [],
   "source": [
    "model_df = pd.read_csv('model_dataset/labeled_processed_data.csv')\n",
    "model_df['class'] = 'none'\n",
    "model_df.loc[model_df['scratch'] == 1, 'class'] = 'scratch'\n",
    "model_df.loc[model_df['focus_spot'] == 1, 'class'] = 'focus_spot'"
   ]
  },
  {
   "cell_type": "code",
   "execution_count": null,
   "id": "9505fa67",
   "metadata": {},
   "outputs": [],
   "source": [
    "response = model_df.drop(columns=['LOT_ID', 'WAFER_ID', 'WAFER_SCRIBE_ID'])"
   ]
  },
  {
   "cell_type": "code",
   "execution_count": 9,
   "id": "837e30fe",
   "metadata": {},
   "outputs": [
    {
     "data": {
      "text/plain": [
       "Index(['LOT_ID', 'WAFER_ID', 'WAFER_SCRIBE_ID', 'c_id', 'none', 'scratch',\n",
       "       'focus_spot', 'NUM_PT', 'CENTX', 'CENTY', 'DIST_FROM_CENTER', 'AREA',\n",
       "       'LENGTH', 'NUM_WAFER_PT', 'WAFER_CENTX', 'WAFER_CENTY', 'NUM_CLUSTER',\n",
       "       'class'],\n",
       "      dtype='object')"
      ]
     },
     "execution_count": 9,
     "metadata": {},
     "output_type": "execute_result"
    }
   ],
   "source": [
    "# Normalize data\n",
    "model_df.columns"
   ]
  },
  {
   "cell_type": "code",
   "execution_count": 6,
   "id": "89a0b2d0",
   "metadata": {},
   "outputs": [
    {
     "data": {
      "text/plain": [
       "sklearn.neighbors._unsupervised.NearestNeighbors"
      ]
     },
     "execution_count": 6,
     "metadata": {},
     "output_type": "execute_result"
    }
   ],
   "source": [
    "clf = KNN(3, weights=weights)"
   ]
  },
  {
   "cell_type": "code",
   "execution_count": null,
   "id": "1e761271",
   "metadata": {},
   "outputs": [],
   "source": []
  }
 ],
 "metadata": {
  "kernelspec": {
   "display_name": "Python 3",
   "language": "python",
   "name": "python3"
  },
  "language_info": {
   "codemirror_mode": {
    "name": "ipython",
    "version": 3
   },
   "file_extension": ".py",
   "mimetype": "text/x-python",
   "name": "python",
   "nbconvert_exporter": "python",
   "pygments_lexer": "ipython3",
   "version": "3.9.5"
  }
 },
 "nbformat": 4,
 "nbformat_minor": 5
}
